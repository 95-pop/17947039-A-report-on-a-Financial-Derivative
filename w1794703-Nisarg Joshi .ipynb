{
 "cells": [
  {
   "cell_type": "markdown",
   "metadata": {},
   "source": [
    "# Data Component "
   ]
  },
  {
   "cell_type": "markdown",
   "metadata": {},
   "source": [
    "Financal Time serise "
   ]
  },
  {
   "cell_type": "markdown",
   "metadata": {},
   "source": [
    "Here i am importing data via yfinance.\n",
    "Installing the yfinance package, which is the downloader connected with the Yahoo Fiannce API."
   ]
  },
  {
   "cell_type": "code",
   "execution_count": 157,
   "metadata": {},
   "outputs": [
    {
     "name": "stdout",
     "output_type": "stream",
     "text": [
      "Requirement already satisfied: yfinance in c:\\users\\nisar\\anaconda3\\lib\\site-packages (0.1.55)\n",
      "Requirement already satisfied: lxml>=4.5.1 in c:\\users\\nisar\\anaconda3\\lib\\site-packages (from yfinance) (4.5.2)\n",
      "Requirement already satisfied: pandas>=0.24 in c:\\users\\nisar\\anaconda3\\lib\\site-packages (from yfinance) (1.0.5)\n",
      "Requirement already satisfied: requests>=2.20 in c:\\users\\nisar\\anaconda3\\lib\\site-packages (from yfinance) (2.24.0)\n",
      "Requirement already satisfied: numpy>=1.15 in c:\\users\\nisar\\anaconda3\\lib\\site-packages (from yfinance) (1.18.5)\n",
      "Requirement already satisfied: multitasking>=0.0.7 in c:\\users\\nisar\\anaconda3\\lib\\site-packages (from yfinance) (0.0.9)\n",
      "Requirement already satisfied: python-dateutil>=2.6.1 in c:\\users\\nisar\\anaconda3\\lib\\site-packages (from pandas>=0.24->yfinance) (2.8.1)\n",
      "Requirement already satisfied: pytz>=2017.2 in c:\\users\\nisar\\anaconda3\\lib\\site-packages (from pandas>=0.24->yfinance) (2020.1)\n",
      "Requirement already satisfied: certifi>=2017.4.17 in c:\\users\\nisar\\anaconda3\\lib\\site-packages (from requests>=2.20->yfinance) (2020.6.20)\n",
      "Requirement already satisfied: urllib3!=1.25.0,!=1.25.1,<1.26,>=1.21.1 in c:\\users\\nisar\\anaconda3\\lib\\site-packages (from requests>=2.20->yfinance) (1.25.9)\n",
      "Requirement already satisfied: idna<3,>=2.5 in c:\\users\\nisar\\anaconda3\\lib\\site-packages (from requests>=2.20->yfinance) (2.10)\n",
      "Requirement already satisfied: chardet<4,>=3.0.2 in c:\\users\\nisar\\anaconda3\\lib\\site-packages (from requests>=2.20->yfinance) (3.0.4)\n",
      "Requirement already satisfied: six>=1.5 in c:\\users\\nisar\\anaconda3\\lib\\site-packages (from python-dateutil>=2.6.1->pandas>=0.24->yfinance) (1.15.0)\n",
      "Note: you may need to restart the kernel to use updated packages.\n"
     ]
    }
   ],
   "source": [
    "pip install yfinance"
   ]
  },
  {
   "cell_type": "markdown",
   "metadata": {},
   "source": [
    "Below is the package which is a plotting library for the Python programming language and its numerical mathematics extension NumPy."
   ]
  },
  {
   "cell_type": "code",
   "execution_count": 158,
   "metadata": {},
   "outputs": [
    {
     "name": "stdout",
     "output_type": "stream",
     "text": [
      "Requirement already up-to-date: matplotlib in c:\\users\\nisar\\anaconda3\\lib\\site-packages (3.3.3)\n",
      "Requirement already satisfied, skipping upgrade: cycler>=0.10 in c:\\users\\nisar\\anaconda3\\lib\\site-packages (from matplotlib) (0.10.0)\n",
      "Requirement already satisfied, skipping upgrade: python-dateutil>=2.1 in c:\\users\\nisar\\anaconda3\\lib\\site-packages (from matplotlib) (2.8.1)\n",
      "Requirement already satisfied, skipping upgrade: kiwisolver>=1.0.1 in c:\\users\\nisar\\anaconda3\\lib\\site-packages (from matplotlib) (1.2.0)\n",
      "Requirement already satisfied, skipping upgrade: pillow>=6.2.0 in c:\\users\\nisar\\anaconda3\\lib\\site-packages (from matplotlib) (7.2.0)\n",
      "Requirement already satisfied, skipping upgrade: numpy>=1.15 in c:\\users\\nisar\\anaconda3\\lib\\site-packages (from matplotlib) (1.18.5)\n",
      "Requirement already satisfied, skipping upgrade: pyparsing!=2.0.4,!=2.1.2,!=2.1.6,>=2.0.3 in c:\\users\\nisar\\anaconda3\\lib\\site-packages (from matplotlib) (2.4.7)\n",
      "Requirement already satisfied, skipping upgrade: six in c:\\users\\nisar\\anaconda3\\lib\\site-packages (from cycler>=0.10->matplotlib) (1.15.0)\n",
      "Note: you may need to restart the kernel to use updated packages.\n"
     ]
    }
   ],
   "source": [
    "pip install -U matplotlib"
   ]
  },
  {
   "cell_type": "markdown",
   "metadata": {},
   "source": [
    "Below are the functions."
   ]
  },
  {
   "cell_type": "code",
   "execution_count": 159,
   "metadata": {},
   "outputs": [],
   "source": [
    "import yfinance as yf\n",
    "import numpy as np\n",
    "import pandas as pd\n",
    "import matplotlib as mpl"
   ]
  },
  {
   "cell_type": "markdown",
   "metadata": {},
   "source": [
    "below is the data downlolded form yahoo finance of Apple inc. for past one years "
   ]
  },
  {
   "cell_type": "code",
   "execution_count": 160,
   "metadata": {},
   "outputs": [
    {
     "name": "stdout",
     "output_type": "stream",
     "text": [
      "[*********************100%***********************]  1 of 1 completed\n"
     ]
    }
   ],
   "source": [
    "initial_data = yf.download(\"AAPL\", start=\"2019-12-10\", end=\"2020-12-10\")"
   ]
  },
  {
   "cell_type": "code",
   "execution_count": 161,
   "metadata": {},
   "outputs": [
    {
     "data": {
      "text/html": [
       "<div>\n",
       "<style scoped>\n",
       "    .dataframe tbody tr th:only-of-type {\n",
       "        vertical-align: middle;\n",
       "    }\n",
       "\n",
       "    .dataframe tbody tr th {\n",
       "        vertical-align: top;\n",
       "    }\n",
       "\n",
       "    .dataframe thead th {\n",
       "        text-align: right;\n",
       "    }\n",
       "</style>\n",
       "<table border=\"1\" class=\"dataframe\">\n",
       "  <thead>\n",
       "    <tr style=\"text-align: right;\">\n",
       "      <th></th>\n",
       "      <th>Open</th>\n",
       "      <th>High</th>\n",
       "      <th>Low</th>\n",
       "      <th>Close</th>\n",
       "      <th>Adj Close</th>\n",
       "      <th>Volume</th>\n",
       "    </tr>\n",
       "    <tr>\n",
       "      <th>Date</th>\n",
       "      <th></th>\n",
       "      <th></th>\n",
       "      <th></th>\n",
       "      <th></th>\n",
       "      <th></th>\n",
       "      <th></th>\n",
       "    </tr>\n",
       "  </thead>\n",
       "  <tbody>\n",
       "    <tr>\n",
       "      <th>2019-12-10</th>\n",
       "      <td>67.150002</td>\n",
       "      <td>67.517502</td>\n",
       "      <td>66.464996</td>\n",
       "      <td>67.120003</td>\n",
       "      <td>66.004898</td>\n",
       "      <td>90420400</td>\n",
       "    </tr>\n",
       "    <tr>\n",
       "      <th>2019-12-11</th>\n",
       "      <td>67.202499</td>\n",
       "      <td>67.775002</td>\n",
       "      <td>67.125000</td>\n",
       "      <td>67.692497</td>\n",
       "      <td>66.567886</td>\n",
       "      <td>78756800</td>\n",
       "    </tr>\n",
       "    <tr>\n",
       "      <th>2019-12-12</th>\n",
       "      <td>66.945000</td>\n",
       "      <td>68.139999</td>\n",
       "      <td>66.830002</td>\n",
       "      <td>67.864998</td>\n",
       "      <td>66.737518</td>\n",
       "      <td>137310400</td>\n",
       "    </tr>\n",
       "    <tr>\n",
       "      <th>2019-12-13</th>\n",
       "      <td>67.864998</td>\n",
       "      <td>68.824997</td>\n",
       "      <td>67.732498</td>\n",
       "      <td>68.787498</td>\n",
       "      <td>67.644707</td>\n",
       "      <td>133587600</td>\n",
       "    </tr>\n",
       "    <tr>\n",
       "      <th>2019-12-16</th>\n",
       "      <td>69.250000</td>\n",
       "      <td>70.197502</td>\n",
       "      <td>69.245003</td>\n",
       "      <td>69.964996</td>\n",
       "      <td>68.802635</td>\n",
       "      <td>128186000</td>\n",
       "    </tr>\n",
       "  </tbody>\n",
       "</table>\n",
       "</div>"
      ],
      "text/plain": [
       "                 Open       High        Low      Close  Adj Close     Volume\n",
       "Date                                                                        \n",
       "2019-12-10  67.150002  67.517502  66.464996  67.120003  66.004898   90420400\n",
       "2019-12-11  67.202499  67.775002  67.125000  67.692497  66.567886   78756800\n",
       "2019-12-12  66.945000  68.139999  66.830002  67.864998  66.737518  137310400\n",
       "2019-12-13  67.864998  68.824997  67.732498  68.787498  67.644707  133587600\n",
       "2019-12-16  69.250000  70.197502  69.245003  69.964996  68.802635  128186000"
      ]
     },
     "execution_count": 161,
     "metadata": {},
     "output_type": "execute_result"
    }
   ],
   "source": [
    "initial_data.head()"
   ]
  },
  {
   "cell_type": "code",
   "execution_count": 162,
   "metadata": {},
   "outputs": [
    {
     "data": {
      "text/html": [
       "<div>\n",
       "<style scoped>\n",
       "    .dataframe tbody tr th:only-of-type {\n",
       "        vertical-align: middle;\n",
       "    }\n",
       "\n",
       "    .dataframe tbody tr th {\n",
       "        vertical-align: top;\n",
       "    }\n",
       "\n",
       "    .dataframe thead th {\n",
       "        text-align: right;\n",
       "    }\n",
       "</style>\n",
       "<table border=\"1\" class=\"dataframe\">\n",
       "  <thead>\n",
       "    <tr style=\"text-align: right;\">\n",
       "      <th></th>\n",
       "      <th>Open</th>\n",
       "      <th>High</th>\n",
       "      <th>Low</th>\n",
       "      <th>Close</th>\n",
       "      <th>Adj Close</th>\n",
       "      <th>Volume</th>\n",
       "    </tr>\n",
       "    <tr>\n",
       "      <th>Date</th>\n",
       "      <th></th>\n",
       "      <th></th>\n",
       "      <th></th>\n",
       "      <th></th>\n",
       "      <th></th>\n",
       "      <th></th>\n",
       "    </tr>\n",
       "  </thead>\n",
       "  <tbody>\n",
       "    <tr>\n",
       "      <th>2020-12-03</th>\n",
       "      <td>123.519997</td>\n",
       "      <td>123.779999</td>\n",
       "      <td>122.209999</td>\n",
       "      <td>122.940002</td>\n",
       "      <td>122.940002</td>\n",
       "      <td>78967600</td>\n",
       "    </tr>\n",
       "    <tr>\n",
       "      <th>2020-12-04</th>\n",
       "      <td>122.599998</td>\n",
       "      <td>122.860001</td>\n",
       "      <td>121.519997</td>\n",
       "      <td>122.250000</td>\n",
       "      <td>122.250000</td>\n",
       "      <td>78260400</td>\n",
       "    </tr>\n",
       "    <tr>\n",
       "      <th>2020-12-07</th>\n",
       "      <td>122.309998</td>\n",
       "      <td>124.570000</td>\n",
       "      <td>122.250000</td>\n",
       "      <td>123.750000</td>\n",
       "      <td>123.750000</td>\n",
       "      <td>86712000</td>\n",
       "    </tr>\n",
       "    <tr>\n",
       "      <th>2020-12-08</th>\n",
       "      <td>124.370003</td>\n",
       "      <td>124.980003</td>\n",
       "      <td>123.089996</td>\n",
       "      <td>124.379997</td>\n",
       "      <td>124.379997</td>\n",
       "      <td>82225500</td>\n",
       "    </tr>\n",
       "    <tr>\n",
       "      <th>2020-12-09</th>\n",
       "      <td>124.529999</td>\n",
       "      <td>125.949997</td>\n",
       "      <td>121.000000</td>\n",
       "      <td>121.779999</td>\n",
       "      <td>121.779999</td>\n",
       "      <td>114816900</td>\n",
       "    </tr>\n",
       "  </tbody>\n",
       "</table>\n",
       "</div>"
      ],
      "text/plain": [
       "                  Open        High         Low       Close   Adj Close  \\\n",
       "Date                                                                     \n",
       "2020-12-03  123.519997  123.779999  122.209999  122.940002  122.940002   \n",
       "2020-12-04  122.599998  122.860001  121.519997  122.250000  122.250000   \n",
       "2020-12-07  122.309998  124.570000  122.250000  123.750000  123.750000   \n",
       "2020-12-08  124.370003  124.980003  123.089996  124.379997  124.379997   \n",
       "2020-12-09  124.529999  125.949997  121.000000  121.779999  121.779999   \n",
       "\n",
       "               Volume  \n",
       "Date                   \n",
       "2020-12-03   78967600  \n",
       "2020-12-04   78260400  \n",
       "2020-12-07   86712000  \n",
       "2020-12-08   82225500  \n",
       "2020-12-09  114816900  "
      ]
     },
     "execution_count": 162,
     "metadata": {},
     "output_type": "execute_result"
    }
   ],
   "source": [
    "initial_data.tail()"
   ]
  },
  {
   "cell_type": "code",
   "execution_count": 163,
   "metadata": {},
   "outputs": [
    {
     "data": {
      "text/plain": [
       "Date\n",
       "2019-12-10    66.004898\n",
       "2019-12-11    66.567886\n",
       "2019-12-12    66.737518\n",
       "2019-12-13    67.644707\n",
       "2019-12-16    68.802635\n",
       "Name: Adj Close, dtype: float64"
      ]
     },
     "execution_count": 163,
     "metadata": {},
     "output_type": "execute_result"
    }
   ],
   "source": [
    "initial_data['Adj Close'].head()"
   ]
  },
  {
   "cell_type": "code",
   "execution_count": 164,
   "metadata": {},
   "outputs": [
    {
     "data": {
      "text/plain": [
       "Date\n",
       "2020-12-03    122.940002\n",
       "2020-12-04    122.250000\n",
       "2020-12-07    123.750000\n",
       "2020-12-08    124.379997\n",
       "2020-12-09    121.779999\n",
       "Name: Adj Close, dtype: float64"
      ]
     },
     "execution_count": 164,
     "metadata": {},
     "output_type": "execute_result"
    }
   ],
   "source": [
    "initial_data['Adj Close'].tail()"
   ]
  },
  {
   "cell_type": "code",
   "execution_count": 165,
   "metadata": {},
   "outputs": [],
   "source": [
    "data =  initial_data['Adj Close']\n"
   ]
  },
  {
   "cell_type": "code",
   "execution_count": 166,
   "metadata": {},
   "outputs": [
    {
     "data": {
      "text/plain": [
       "Date\n",
       "2019-12-10     66.004898\n",
       "2019-12-11     66.567886\n",
       "2019-12-12     66.737518\n",
       "2019-12-13     67.644707\n",
       "2019-12-16     68.802635\n",
       "                 ...    \n",
       "2020-12-03    122.940002\n",
       "2020-12-04    122.250000\n",
       "2020-12-07    123.750000\n",
       "2020-12-08    124.379997\n",
       "2020-12-09    121.779999\n",
       "Name: Adj Close, Length: 253, dtype: float64"
      ]
     },
     "execution_count": 166,
     "metadata": {},
     "output_type": "execute_result"
    }
   ],
   "source": [
    "data "
   ]
  },
  {
   "cell_type": "code",
   "execution_count": 167,
   "metadata": {},
   "outputs": [
    {
     "data": {
      "text/plain": [
       "Date\n",
       "2019-12-10    66.004898\n",
       "2019-12-11    66.567886\n",
       "2019-12-12    66.737518\n",
       "2019-12-13    67.644707\n",
       "2019-12-16    68.802635\n",
       "Name: Adj Close, dtype: float64"
      ]
     },
     "execution_count": 167,
     "metadata": {},
     "output_type": "execute_result"
    }
   ],
   "source": [
    "data.head()"
   ]
  },
  {
   "cell_type": "code",
   "execution_count": 168,
   "metadata": {},
   "outputs": [
    {
     "data": {
      "text/plain": [
       "Date\n",
       "2020-12-03    122.940002\n",
       "2020-12-04    122.250000\n",
       "2020-12-07    123.750000\n",
       "2020-12-08    124.379997\n",
       "2020-12-09    121.779999\n",
       "Name: Adj Close, dtype: float64"
      ]
     },
     "execution_count": 168,
     "metadata": {},
     "output_type": "execute_result"
    }
   ],
   "source": [
    "data.tail()"
   ]
  },
  {
   "cell_type": "code",
   "execution_count": 169,
   "metadata": {},
   "outputs": [
    {
     "data": {
      "text/plain": [
       "array([<AxesSubplot:xlabel='Date'>], dtype=object)"
      ]
     },
     "execution_count": 169,
     "metadata": {},
     "output_type": "execute_result"
    },
    {
     "data": {
      "image/png": "[encoded data removed]",
      "text/plain": [
       "<Figure size 720x864 with 1 Axes>"
      ]
     },
     "metadata": {
      "needs_background": "light"
     },
     "output_type": "display_data"
    }
   ],
   "source": [
    "data.plot(figsize=(10, 12), subplots=True)"
   ]
  },
  {
   "cell_type": "markdown",
   "metadata": {},
   "source": [
    "In the above outputs we can clearly see the last price and the adjusted close price when the market was closed which will give us a good understanding. \n"
   ]
  },
  {
   "cell_type": "markdown",
   "metadata": {},
   "source": [
    "@Summary Statistics"
   ]
  },
  {
   "cell_type": "code",
   "execution_count": 170,
   "metadata": {},
   "outputs": [
    {
     "data": {
      "text/plain": [
       "count    253.00\n",
       "mean      91.27\n",
       "std       21.12\n",
       "min       55.29\n",
       "25%       73.33\n",
       "50%       85.45\n",
       "75%      114.41\n",
       "max      133.95\n",
       "Name: Adj Close, dtype: float64"
      ]
     },
     "execution_count": 170,
     "metadata": {},
     "output_type": "execute_result"
    }
   ],
   "source": [
    "data.describe().round(2)"
   ]
  },
  {
   "cell_type": "markdown",
   "metadata": {},
   "source": [
    "@Changes over Time"
   ]
  },
  {
   "cell_type": "code",
   "execution_count": 171,
   "metadata": {},
   "outputs": [
    {
     "data": {
      "text/plain": [
       "Date\n",
       "2019-12-10         NaN\n",
       "2019-12-11    0.562988\n",
       "2019-12-12    0.169632\n",
       "2019-12-13    0.907188\n",
       "2019-12-16    1.157928\n",
       "Name: Adj Close, dtype: float64"
      ]
     },
     "execution_count": 171,
     "metadata": {},
     "output_type": "execute_result"
    }
   ],
   "source": [
    "data.diff().head()"
   ]
  },
  {
   "cell_type": "code",
   "execution_count": 172,
   "metadata": {},
   "outputs": [
    {
     "data": {
      "text/plain": [
       "count    252.00\n",
       "mean       0.22\n",
       "std        2.53\n",
       "min      -10.50\n",
       "25%       -0.87\n",
       "50%        0.18\n",
       "75%        1.59\n",
       "max       10.03\n",
       "Name: Adj Close, dtype: float64"
      ]
     },
     "execution_count": 172,
     "metadata": {},
     "output_type": "execute_result"
    }
   ],
   "source": [
    "data.diff().describe().round(2)"
   ]
  },
  {
   "cell_type": "code",
   "execution_count": 173,
   "metadata": {},
   "outputs": [
    {
     "data": {
      "text/plain": [
       "Date\n",
       "2019-12-10       NaN\n",
       "2019-12-11    0.0085\n",
       "2019-12-12    0.0025\n",
       "2019-12-13    0.0136\n",
       "2019-12-16    0.0171\n",
       "Name: Adj Close, dtype: float64"
      ]
     },
     "execution_count": 173,
     "metadata": {},
     "output_type": "execute_result"
    }
   ],
   "source": [
    "data.pct_change().round(4).head()"
   ]
  },
  {
   "cell_type": "markdown",
   "metadata": {},
   "source": [
    "As we found the changes over time, now lets find the log return. The main use of the log-return is that is a proxy for the percentage change in the price."
   ]
  },
  {
   "cell_type": "code",
   "execution_count": 174,
   "metadata": {},
   "outputs": [
    {
     "data": {
      "text/plain": [
       "Date\n",
       "2019-12-10       NaN\n",
       "2019-12-11    0.0085\n",
       "2019-12-12    0.0025\n",
       "2019-12-13    0.0135\n",
       "2019-12-16    0.0170\n",
       "Name: Adj Close, dtype: float64"
      ]
     },
     "execution_count": 174,
     "metadata": {},
     "output_type": "execute_result"
    }
   ],
   "source": [
    "rets = np.log(data / data.shift(1))\n",
    "rets.head().round(4)"
   ]
  },
  {
   "cell_type": "code",
   "execution_count": 175,
   "metadata": {},
   "outputs": [
    {
     "data": {
      "image/png": "[encoded data removed]",
      "text/plain": [
       "<Figure size 720x432 with 1 Axes>"
      ]
     },
     "metadata": {
      "needs_background": "light"
     },
     "output_type": "display_data"
    }
   ],
   "source": [
    "rets.cumsum().apply(np.exp).plot(figsize=(10, 6));"
   ]
  },
  {
   "cell_type": "markdown",
   "metadata": {},
   "source": [
    "@Resampling is an important operation on financial time series data. Usually this takes the form of downsampling,Where you decrease the frequency of the samples, such as from days to months."
   ]
  },
  {
   "cell_type": "code",
   "execution_count": 176,
   "metadata": {},
   "outputs": [
    {
     "data": {
      "text/plain": [
       "Date\n",
       "2019-12-15    67.644707\n",
       "2019-12-22    68.699387\n",
       "2019-12-29    71.246353\n",
       "2020-01-05    73.122154\n",
       "2020-01-12    76.293579\n",
       "Freq: W-SUN, Name: Adj Close, dtype: float64"
      ]
     },
     "execution_count": 176,
     "metadata": {},
     "output_type": "execute_result"
    }
   ],
   "source": [
    "data.resample('1w', label='right').last().head()"
   ]
  },
  {
   "cell_type": "code",
   "execution_count": 177,
   "metadata": {},
   "outputs": [
    {
     "data": {
      "text/plain": [
       "Date\n",
       "2019-12-31    72.192863\n",
       "2020-01-31    76.091995\n",
       "2020-02-29    67.364128\n",
       "2020-03-31    62.664707\n",
       "2020-04-30    72.401154\n",
       "Freq: M, Name: Adj Close, dtype: float64"
      ]
     },
     "execution_count": 177,
     "metadata": {},
     "output_type": "execute_result"
    }
   ],
   "source": [
    "data.resample('1m', label='right').last().head()"
   ]
  },
  {
   "cell_type": "code",
   "execution_count": 178,
   "metadata": {},
   "outputs": [
    {
     "data": {
      "text/plain": [
       "<AxesSubplot:xlabel='Date'>"
      ]
     },
     "execution_count": 178,
     "metadata": {},
     "output_type": "execute_result"
    },
    {
     "data": {
      "image/png": "[encoded data removed]",
      "text/plain": [
       "<Figure size 720x432 with 1 Axes>"
      ]
     },
     "metadata": {
      "needs_background": "light"
     },
     "output_type": "display_data"
    }
   ],
   "source": [
    "rets.cumsum().apply(np.exp). resample('1w', label='right').last().plot(figsize=(10, 6))"
   ]
  },
  {
   "cell_type": "code",
   "execution_count": 179,
   "metadata": {},
   "outputs": [
    {
     "data": {
      "text/plain": [
       "<AxesSubplot:xlabel='Date'>"
      ]
     },
     "execution_count": 179,
     "metadata": {},
     "output_type": "execute_result"
    },
    {
     "data": {
      "image/png": "[encoded data removed]",
      "text/plain": [
       "<Figure size 720x432 with 1 Axes>"
      ]
     },
     "metadata": {
      "needs_background": "light"
     },
     "output_type": "display_data"
    }
   ],
   "source": [
    "rets.cumsum().apply(np.exp). resample('1m', label='right').last().plot(figsize=(10, 6))"
   ]
  },
  {
   "cell_type": "markdown",
   "metadata": {},
   "source": [
    "# Rolling Statistics"
   ]
  },
  {
   "cell_type": "markdown",
   "metadata": {},
   "source": [
    "A rolling average is used to analyze a sequence of data points, often called a moving average and often a running aperture, by generating many averages of various subsets of the total data set."
   ]
  },
  {
   "cell_type": "code",
   "execution_count": null,
   "metadata": {},
   "outputs": [],
   "source": []
  },
  {
   "cell_type": "markdown",
   "metadata": {},
   "source": [
    "# Historical Volatility"
   ]
  },
  {
   "cell_type": "markdown",
   "metadata": {},
   "source": [
    "The historical volatility of Apple, Inc."
   ]
  },
  {
   "cell_type": "code",
   "execution_count": 193,
   "metadata": {},
   "outputs": [],
   "source": [
    "import numpy as np\n",
    "import pandas as pd\n",
    "import matplotlib.pyplot as plt\n",
    "import scipy.stats as si\n",
    "import yfinance as yf\n",
    "import os"
   ]
  },
  {
   "cell_type": "code",
   "execution_count": 197,
   "metadata": {},
   "outputs": [
    {
     "name": "stdout",
     "output_type": "stream",
     "text": [
      "[*********************100%***********************]  1 of 1 completed\n"
     ]
    }
   ],
   "source": [
    "AAPL = yf.download(\"AAPL\", start=\"2019-12-10\", end=\"2020-12-10\")"
   ]
  },
  {
   "cell_type": "code",
   "execution_count": 198,
   "metadata": {},
   "outputs": [
    {
     "name": "stdout",
     "output_type": "stream",
     "text": [
      "The spot price is $ 121.78 .\n"
     ]
    }
   ],
   "source": [
    "S = AAPL['Adj Close'][-1]\n",
    "print('The spot price is $', round(S,2), '.')"
   ]
  },
  {
   "cell_type": "code",
   "execution_count": 200,
   "metadata": {},
   "outputs": [
    {
     "name": "stdout",
     "output_type": "stream",
     "text": [
      "The annualised volatility is 46.36 %\n"
     ]
    }
   ],
   "source": [
    "log_return = np.log(AAPL['Adj Close'] / AAPL['Adj Close'].shift(1))\n",
    "vol_h = np.sqrt(252) * log_return.std()\n",
    "print('The annualised volatility is', round(vol_h*100,2), '%')"
   ]
  },
  {
   "cell_type": "code",
   "execution_count": 201,
   "metadata": {},
   "outputs": [
    {
     "name": "stdout",
     "output_type": "stream",
     "text": [
      "The monthly volatility is 22.8 %\n"
     ]
    }
   ],
   "source": [
    "log_return = np.log(AAPL['Adj Close'] / AAPL['Adj Close'].shift(1))\n",
    "vol_h = np.sqrt(252) * log_return[-23:-1].std()\n",
    "print('The monthly volatility is', round(vol_h*100,2), '%')"
   ]
  },
  {
   "cell_type": "markdown",
   "metadata": {},
   "source": [
    "# Black-Scholes Model"
   ]
  },
  {
   "cell_type": "code",
   "execution_count": 210,
   "metadata": {},
   "outputs": [],
   "source": [
    "import numpy as np\n",
    "import pandas as pd\n",
    "import matplotlib.pyplot as plt\n",
    "import scipy.stats as si\n",
    "import yfinance as yf"
   ]
  },
  {
   "cell_type": "code",
   "execution_count": 211,
   "metadata": {},
   "outputs": [],
   "source": [
    "def euro_option_bsm(S, K, T, r, q, vol, payoff):\n",
    "    \n",
    "    #S: spot price\n",
    "    #K: strike price\n",
    "    #T: time to maturity\n",
    "    #r: risk free rate\n",
    "    #q: continuous dividend yield\n",
    "    #vol: volatility of underlying asset\n",
    "    #payoff: call or put\n",
    "    \n",
    "    d1 = (np.log(S / K) + (r - q + 0.5 * vol ** 2) * T) / (vol * np.sqrt(T))\n",
    "    d2 = (np.log(S / K) + (r - q - 0.5 * vol ** 2) * T) / (vol * np.sqrt(T))\n",
    "    if payoff == \"call\":\n",
    "        option_value = S * np.exp(-q * T) * si.norm.cdf(d1, 0.0, 1.0) - K * np.exp(-r * T) * si.norm.cdf(d2, 0.0, 1.0)\n",
    "    elif payoff == \"put\":\n",
    "        option_value =  - S * np.exp(-q * T) * si.norm.cdf(-d1, 0.0, 1.0) + K * np.exp(-r * T) * si.norm.cdf(-d2, 0.0, 1.0)\n",
    "    \n",
    "    return option_value"
   ]
  },
  {
   "cell_type": "code",
   "execution_count": 217,
   "metadata": {},
   "outputs": [
    {
     "data": {
      "text/plain": [
       "9.01468195118662"
      ]
     },
     "execution_count": 217,
     "metadata": {},
     "output_type": "execute_result"
    }
   ],
   "source": [
    "euro_option_bsm(121.78, 70, 1, 0.02, 0.67, 0.46, 'call')"
   ]
  },
  {
   "cell_type": "code",
   "execution_count": 218,
   "metadata": {},
   "outputs": [],
   "source": [
    "T = np.linspace(0.25,3,12)\n",
    "cpd = np.zeros((len(T),1))\n",
    "for i in range(len(T)):\n",
    "    cpd [i] = euro_option_bsm(121.78, 70, T[i], 0.02, 0.67, 0.46, 'call')"
   ]
  },
  {
   "cell_type": "code",
   "execution_count": 219,
   "metadata": {},
   "outputs": [
    {
     "data": {
      "text/plain": [
       "<matplotlib.legend.Legend at 0x1f08fdd5550>"
      ]
     },
     "execution_count": 219,
     "metadata": {},
     "output_type": "execute_result"
    },
    {
     "data": {
      "image/png": "[encoded data removed]",
      "text/plain": [
       "<Figure size 432x288 with 1 Axes>"
      ]
     },
     "metadata": {
      "needs_background": "light"
     },
     "output_type": "display_data"
    }
   ],
   "source": [
    "fig = plt.figure()\n",
    "plt.plot(T, cpd, '-')\n",
    "plt.xlabel('Time to Expiry')\n",
    "plt.ylabel('Price')\n",
    "plt.title('European Call')\n",
    "plt.legend(['Option Price'])"
   ]
  },
  {
   "cell_type": "code",
   "execution_count": 220,
   "metadata": {},
   "outputs": [
    {
     "data": {
      "text/plain": [
       "15.312718479814354"
      ]
     },
     "execution_count": 220,
     "metadata": {},
     "output_type": "execute_result"
    }
   ],
   "source": [
    "euro_option_bsm(121.78, 70, 1, 0.02, 0.67, 0.46, 'put')"
   ]
  },
  {
   "cell_type": "code",
   "execution_count": 221,
   "metadata": {},
   "outputs": [],
   "source": [
    "T = np.linspace(0.25,3,12)\n",
    "cpd = np.zeros((len(T),1))\n",
    "for i in range(len(T)):\n",
    "    cpd [i] = euro_option_bsm(121.78, 70, T[i], 0.02, 0.67, 0.46, 'put')"
   ]
  },
  {
   "cell_type": "code",
   "execution_count": 222,
   "metadata": {},
   "outputs": [
    {
     "data": {
      "text/plain": [
       "<matplotlib.legend.Legend at 0x1f08fc99b50>"
      ]
     },
     "execution_count": 222,
     "metadata": {},
     "output_type": "execute_result"
    },
    {
     "data": {
      "image/png": "[encoded data removed]",
      "text/plain": [
       "<Figure size 432x288 with 1 Axes>"
      ]
     },
     "metadata": {
      "needs_background": "light"
     },
     "output_type": "display_data"
    }
   ],
   "source": [
    "fig = plt.figure()\n",
    "plt.plot(T, cpd, '-')\n",
    "plt.xlabel('Time to Expiry')\n",
    "plt.ylabel('Price')\n",
    "plt.title('European Call')\n",
    "plt.legend(['Option Price'])"
   ]
  },
  {
   "cell_type": "markdown",
   "metadata": {},
   "source": [
    "# Option Trading"
   ]
  },
  {
   "cell_type": "markdown",
   "metadata": {},
   "source": [
    "To check weather Black Scholes correctly predicted the market value of the options."
   ]
  },
  {
   "cell_type": "code",
   "execution_count": 224,
   "metadata": {},
   "outputs": [
    {
     "data": {
      "text/html": [
       "<div>\n",
       "<style scoped>\n",
       "    .dataframe tbody tr th:only-of-type {\n",
       "        vertical-align: middle;\n",
       "    }\n",
       "\n",
       "    .dataframe tbody tr th {\n",
       "        vertical-align: top;\n",
       "    }\n",
       "\n",
       "    .dataframe thead th {\n",
       "        text-align: right;\n",
       "    }\n",
       "</style>\n",
       "<table border=\"1\" class=\"dataframe\">\n",
       "  <thead>\n",
       "    <tr style=\"text-align: right;\">\n",
       "      <th></th>\n",
       "      <th>contractSymbol</th>\n",
       "      <th>lastTradeDate</th>\n",
       "      <th>strike</th>\n",
       "      <th>lastPrice</th>\n",
       "      <th>bid</th>\n",
       "      <th>ask</th>\n",
       "      <th>change</th>\n",
       "      <th>percentChange</th>\n",
       "      <th>volume</th>\n",
       "      <th>openInterest</th>\n",
       "      <th>impliedVolatility</th>\n",
       "      <th>inTheMoney</th>\n",
       "      <th>contractSize</th>\n",
       "      <th>currency</th>\n",
       "    </tr>\n",
       "  </thead>\n",
       "  <tbody>\n",
       "    <tr>\n",
       "      <th>0</th>\n",
       "      <td>AAPL210917C00027500</td>\n",
       "      <td>2020-12-01 14:44:10</td>\n",
       "      <td>27.50</td>\n",
       "      <td>94.17</td>\n",
       "      <td>95.50</td>\n",
       "      <td>96.20</td>\n",
       "      <td>0.000000</td>\n",
       "      <td>0.000000</td>\n",
       "      <td>2</td>\n",
       "      <td>11.0</td>\n",
       "      <td>0.723636</td>\n",
       "      <td>True</td>\n",
       "      <td>REGULAR</td>\n",
       "      <td>USD</td>\n",
       "    </tr>\n",
       "    <tr>\n",
       "      <th>1</th>\n",
       "      <td>AAPL210917C00028750</td>\n",
       "      <td>2020-11-27 15:27:21</td>\n",
       "      <td>28.75</td>\n",
       "      <td>88.25</td>\n",
       "      <td>94.25</td>\n",
       "      <td>94.95</td>\n",
       "      <td>0.000000</td>\n",
       "      <td>0.000000</td>\n",
       "      <td>1</td>\n",
       "      <td>1.0</td>\n",
       "      <td>0.703128</td>\n",
       "      <td>True</td>\n",
       "      <td>REGULAR</td>\n",
       "      <td>USD</td>\n",
       "    </tr>\n",
       "    <tr>\n",
       "      <th>2</th>\n",
       "      <td>AAPL210917C00030000</td>\n",
       "      <td>2020-10-28 18:13:04</td>\n",
       "      <td>30.00</td>\n",
       "      <td>82.75</td>\n",
       "      <td>86.40</td>\n",
       "      <td>86.95</td>\n",
       "      <td>0.000000</td>\n",
       "      <td>0.000000</td>\n",
       "      <td>2</td>\n",
       "      <td>8.0</td>\n",
       "      <td>0.000010</td>\n",
       "      <td>True</td>\n",
       "      <td>REGULAR</td>\n",
       "      <td>USD</td>\n",
       "    </tr>\n",
       "    <tr>\n",
       "      <th>3</th>\n",
       "      <td>AAPL210917C00031250</td>\n",
       "      <td>2020-11-23 15:47:50</td>\n",
       "      <td>31.25</td>\n",
       "      <td>84.20</td>\n",
       "      <td>91.75</td>\n",
       "      <td>92.45</td>\n",
       "      <td>0.000000</td>\n",
       "      <td>0.000000</td>\n",
       "      <td>2</td>\n",
       "      <td>61.0</td>\n",
       "      <td>0.663089</td>\n",
       "      <td>True</td>\n",
       "      <td>REGULAR</td>\n",
       "      <td>USD</td>\n",
       "    </tr>\n",
       "    <tr>\n",
       "      <th>4</th>\n",
       "      <td>AAPL210917C00032500</td>\n",
       "      <td>2020-11-06 20:57:12</td>\n",
       "      <td>32.50</td>\n",
       "      <td>86.15</td>\n",
       "      <td>89.40</td>\n",
       "      <td>90.20</td>\n",
       "      <td>0.000000</td>\n",
       "      <td>0.000000</td>\n",
       "      <td>4</td>\n",
       "      <td>25.0</td>\n",
       "      <td>0.000010</td>\n",
       "      <td>True</td>\n",
       "      <td>REGULAR</td>\n",
       "      <td>USD</td>\n",
       "    </tr>\n",
       "    <tr>\n",
       "      <th>...</th>\n",
       "      <td>...</td>\n",
       "      <td>...</td>\n",
       "      <td>...</td>\n",
       "      <td>...</td>\n",
       "      <td>...</td>\n",
       "      <td>...</td>\n",
       "      <td>...</td>\n",
       "      <td>...</td>\n",
       "      <td>...</td>\n",
       "      <td>...</td>\n",
       "      <td>...</td>\n",
       "      <td>...</td>\n",
       "      <td>...</td>\n",
       "      <td>...</td>\n",
       "    </tr>\n",
       "    <tr>\n",
       "      <th>104</th>\n",
       "      <td>AAPL210917C00720000</td>\n",
       "      <td>2020-08-28 19:25:09</td>\n",
       "      <td>720.00</td>\n",
       "      <td>26.60</td>\n",
       "      <td>25.80</td>\n",
       "      <td>26.70</td>\n",
       "      <td>-0.449999</td>\n",
       "      <td>-1.663582</td>\n",
       "      <td>11</td>\n",
       "      <td>110.0</td>\n",
       "      <td>1.819520</td>\n",
       "      <td>False</td>\n",
       "      <td>REGULAR</td>\n",
       "      <td>USD</td>\n",
       "    </tr>\n",
       "    <tr>\n",
       "      <th>105</th>\n",
       "      <td>AAPL210917C00740000</td>\n",
       "      <td>2020-08-28 15:33:47</td>\n",
       "      <td>740.00</td>\n",
       "      <td>24.50</td>\n",
       "      <td>23.55</td>\n",
       "      <td>24.40</td>\n",
       "      <td>-0.500000</td>\n",
       "      <td>-2.000000</td>\n",
       "      <td>2</td>\n",
       "      <td>NaN</td>\n",
       "      <td>1.777284</td>\n",
       "      <td>False</td>\n",
       "      <td>REGULAR</td>\n",
       "      <td>USD</td>\n",
       "    </tr>\n",
       "    <tr>\n",
       "      <th>106</th>\n",
       "      <td>AAPL210917C00800000</td>\n",
       "      <td>2020-08-28 19:17:58</td>\n",
       "      <td>800.00</td>\n",
       "      <td>19.11</td>\n",
       "      <td>18.30</td>\n",
       "      <td>19.10</td>\n",
       "      <td>-0.289999</td>\n",
       "      <td>-1.494840</td>\n",
       "      <td>43</td>\n",
       "      <td>6.0</td>\n",
       "      <td>1.679750</td>\n",
       "      <td>False</td>\n",
       "      <td>REGULAR</td>\n",
       "      <td>USD</td>\n",
       "    </tr>\n",
       "    <tr>\n",
       "      <th>107</th>\n",
       "      <td>AAPL210917C00900000</td>\n",
       "      <td>2020-08-27 15:03:20</td>\n",
       "      <td>900.00</td>\n",
       "      <td>13.13</td>\n",
       "      <td>12.85</td>\n",
       "      <td>13.60</td>\n",
       "      <td>-0.570000</td>\n",
       "      <td>-4.160582</td>\n",
       "      <td>25</td>\n",
       "      <td>5.0</td>\n",
       "      <td>1.579592</td>\n",
       "      <td>False</td>\n",
       "      <td>REGULAR</td>\n",
       "      <td>USD</td>\n",
       "    </tr>\n",
       "    <tr>\n",
       "      <th>108</th>\n",
       "      <td>AAPL210917C01000000</td>\n",
       "      <td>2020-08-28 19:58:31</td>\n",
       "      <td>1000.00</td>\n",
       "      <td>10.20</td>\n",
       "      <td>10.00</td>\n",
       "      <td>10.40</td>\n",
       "      <td>-0.250000</td>\n",
       "      <td>-2.392345</td>\n",
       "      <td>65</td>\n",
       "      <td>NaN</td>\n",
       "      <td>1.529238</td>\n",
       "      <td>False</td>\n",
       "      <td>REGULAR</td>\n",
       "      <td>USD</td>\n",
       "    </tr>\n",
       "  </tbody>\n",
       "</table>\n",
       "<p>109 rows × 14 columns</p>\n",
       "</div>"
      ],
      "text/plain": [
       "          contractSymbol       lastTradeDate   strike  lastPrice    bid  \\\n",
       "0    AAPL210917C00027500 2020-12-01 14:44:10    27.50      94.17  95.50   \n",
       "1    AAPL210917C00028750 2020-11-27 15:27:21    28.75      88.25  94.25   \n",
       "2    AAPL210917C00030000 2020-10-28 18:13:04    30.00      82.75  86.40   \n",
       "3    AAPL210917C00031250 2020-11-23 15:47:50    31.25      84.20  91.75   \n",
       "4    AAPL210917C00032500 2020-11-06 20:57:12    32.50      86.15  89.40   \n",
       "..                   ...                 ...      ...        ...    ...   \n",
       "104  AAPL210917C00720000 2020-08-28 19:25:09   720.00      26.60  25.80   \n",
       "105  AAPL210917C00740000 2020-08-28 15:33:47   740.00      24.50  23.55   \n",
       "106  AAPL210917C00800000 2020-08-28 19:17:58   800.00      19.11  18.30   \n",
       "107  AAPL210917C00900000 2020-08-27 15:03:20   900.00      13.13  12.85   \n",
       "108  AAPL210917C01000000 2020-08-28 19:58:31  1000.00      10.20  10.00   \n",
       "\n",
       "       ask    change  percentChange  volume  openInterest  impliedVolatility  \\\n",
       "0    96.20  0.000000       0.000000       2          11.0           0.723636   \n",
       "1    94.95  0.000000       0.000000       1           1.0           0.703128   \n",
       "2    86.95  0.000000       0.000000       2           8.0           0.000010   \n",
       "3    92.45  0.000000       0.000000       2          61.0           0.663089   \n",
       "4    90.20  0.000000       0.000000       4          25.0           0.000010   \n",
       "..     ...       ...            ...     ...           ...                ...   \n",
       "104  26.70 -0.449999      -1.663582      11         110.0           1.819520   \n",
       "105  24.40 -0.500000      -2.000000       2           NaN           1.777284   \n",
       "106  19.10 -0.289999      -1.494840      43           6.0           1.679750   \n",
       "107  13.60 -0.570000      -4.160582      25           5.0           1.579592   \n",
       "108  10.40 -0.250000      -2.392345      65           NaN           1.529238   \n",
       "\n",
       "     inTheMoney contractSize currency  \n",
       "0          True      REGULAR      USD  \n",
       "1          True      REGULAR      USD  \n",
       "2          True      REGULAR      USD  \n",
       "3          True      REGULAR      USD  \n",
       "4          True      REGULAR      USD  \n",
       "..          ...          ...      ...  \n",
       "104       False      REGULAR      USD  \n",
       "105       False      REGULAR      USD  \n",
       "106       False      REGULAR      USD  \n",
       "107       False      REGULAR      USD  \n",
       "108       False      REGULAR      USD  \n",
       "\n",
       "[109 rows x 14 columns]"
      ]
     },
     "execution_count": 224,
     "metadata": {},
     "output_type": "execute_result"
    }
   ],
   "source": [
    "AAPL = yf.Ticker(\"AAPL\")\n",
    "opt = AAPL.option_chain('2021-09-17')\n",
    "opt.calls"
   ]
  },
  {
   "cell_type": "code",
   "execution_count": 225,
   "metadata": {},
   "outputs": [
    {
     "name": "stdout",
     "output_type": "stream",
     "text": [
      "[*********************100%***********************]  1 of 1 completed\n"
     ]
    }
   ],
   "source": [
    "data = yf.download(\"AAPL\", start=\"2019-12-10\", end=\"2020-12-10\")"
   ]
  },
  {
   "cell_type": "code",
   "execution_count": 226,
   "metadata": {},
   "outputs": [
    {
     "data": {
      "text/plain": [
       "Date\n",
       "2019-12-10     66.004898\n",
       "2019-12-11     66.567886\n",
       "2019-12-12     66.737518\n",
       "2019-12-13     67.644707\n",
       "2019-12-16     68.802635\n",
       "                 ...    \n",
       "2020-12-03    122.940002\n",
       "2020-12-04    122.250000\n",
       "2020-12-07    123.750000\n",
       "2020-12-08    124.379997\n",
       "2020-12-09    121.779999\n",
       "Name: Adj Close, Length: 253, dtype: float64"
      ]
     },
     "execution_count": 226,
     "metadata": {},
     "output_type": "execute_result"
    }
   ],
   "source": [
    "data['Adj Close']"
   ]
  },
  {
   "cell_type": "code",
   "execution_count": 229,
   "metadata": {},
   "outputs": [
    {
     "data": {
      "text/plain": [
       "0.46357979385965886"
      ]
     },
     "execution_count": 229,
     "metadata": {},
     "output_type": "execute_result"
    }
   ],
   "source": [
    "S = data['Adj Close'][-1]\n",
    "K = opt.calls['strike']\n",
    "T = 1\n",
    "r = 0.02\n",
    "q = 0.67\n",
    "log_return = np.log(data['Adj Close'] / data['Adj Close'].shift(1))\n",
    "vol = np.sqrt(252) * log_return.std() \n",
    "vol"
   ]
  },
  {
   "cell_type": "code",
   "execution_count": 230,
   "metadata": {},
   "outputs": [],
   "source": [
    "AAPL_bsm_call = np.zeros((len(K),1))\n",
    "for i in range(len(K)):\n",
    "    AAPL_bsm_call [i] = euro_option_bsm(S, K[i], T, r, q, vol, 'call')"
   ]
  },
  {
   "cell_type": "code",
   "execution_count": 231,
   "metadata": {},
   "outputs": [
    {
     "data": {
      "text/html": [
       "<div>\n",
       "<style scoped>\n",
       "    .dataframe tbody tr th:only-of-type {\n",
       "        vertical-align: middle;\n",
       "    }\n",
       "\n",
       "    .dataframe tbody tr th {\n",
       "        vertical-align: top;\n",
       "    }\n",
       "\n",
       "    .dataframe thead th {\n",
       "        text-align: right;\n",
       "    }\n",
       "</style>\n",
       "<table border=\"1\" class=\"dataframe\">\n",
       "  <thead>\n",
       "    <tr style=\"text-align: right;\">\n",
       "      <th></th>\n",
       "      <th>contractSymbol</th>\n",
       "      <th>lastTradeDate</th>\n",
       "      <th>strike</th>\n",
       "      <th>lastPrice</th>\n",
       "      <th>bid</th>\n",
       "      <th>ask</th>\n",
       "      <th>change</th>\n",
       "      <th>percentChange</th>\n",
       "      <th>volume</th>\n",
       "      <th>openInterest</th>\n",
       "      <th>impliedVolatility</th>\n",
       "      <th>inTheMoney</th>\n",
       "      <th>contractSize</th>\n",
       "      <th>currency</th>\n",
       "      <th>BSMPrice</th>\n",
       "    </tr>\n",
       "  </thead>\n",
       "  <tbody>\n",
       "    <tr>\n",
       "      <th>0</th>\n",
       "      <td>AAPL210917C00027500</td>\n",
       "      <td>2020-12-01 14:44:10</td>\n",
       "      <td>27.50</td>\n",
       "      <td>94.17</td>\n",
       "      <td>95.50</td>\n",
       "      <td>96.20</td>\n",
       "      <td>0.000000</td>\n",
       "      <td>0.000000</td>\n",
       "      <td>2</td>\n",
       "      <td>11.0</td>\n",
       "      <td>0.723636</td>\n",
       "      <td>True</td>\n",
       "      <td>REGULAR</td>\n",
       "      <td>USD</td>\n",
       "      <td>3.562100e+01</td>\n",
       "    </tr>\n",
       "    <tr>\n",
       "      <th>1</th>\n",
       "      <td>AAPL210917C00028750</td>\n",
       "      <td>2020-11-27 15:27:21</td>\n",
       "      <td>28.75</td>\n",
       "      <td>88.25</td>\n",
       "      <td>94.25</td>\n",
       "      <td>94.95</td>\n",
       "      <td>0.000000</td>\n",
       "      <td>0.000000</td>\n",
       "      <td>1</td>\n",
       "      <td>1.0</td>\n",
       "      <td>0.703128</td>\n",
       "      <td>True</td>\n",
       "      <td>REGULAR</td>\n",
       "      <td>USD</td>\n",
       "      <td>3.447340e+01</td>\n",
       "    </tr>\n",
       "    <tr>\n",
       "      <th>2</th>\n",
       "      <td>AAPL210917C00030000</td>\n",
       "      <td>2020-10-28 18:13:04</td>\n",
       "      <td>30.00</td>\n",
       "      <td>82.75</td>\n",
       "      <td>86.40</td>\n",
       "      <td>86.95</td>\n",
       "      <td>0.000000</td>\n",
       "      <td>0.000000</td>\n",
       "      <td>2</td>\n",
       "      <td>8.0</td>\n",
       "      <td>0.000010</td>\n",
       "      <td>True</td>\n",
       "      <td>REGULAR</td>\n",
       "      <td>USD</td>\n",
       "      <td>3.334112e+01</td>\n",
       "    </tr>\n",
       "    <tr>\n",
       "      <th>3</th>\n",
       "      <td>AAPL210917C00031250</td>\n",
       "      <td>2020-11-23 15:47:50</td>\n",
       "      <td>31.25</td>\n",
       "      <td>84.20</td>\n",
       "      <td>91.75</td>\n",
       "      <td>92.45</td>\n",
       "      <td>0.000000</td>\n",
       "      <td>0.000000</td>\n",
       "      <td>2</td>\n",
       "      <td>61.0</td>\n",
       "      <td>0.663089</td>\n",
       "      <td>True</td>\n",
       "      <td>REGULAR</td>\n",
       "      <td>USD</td>\n",
       "      <td>3.222560e+01</td>\n",
       "    </tr>\n",
       "    <tr>\n",
       "      <th>4</th>\n",
       "      <td>AAPL210917C00032500</td>\n",
       "      <td>2020-11-06 20:57:12</td>\n",
       "      <td>32.50</td>\n",
       "      <td>86.15</td>\n",
       "      <td>89.40</td>\n",
       "      <td>90.20</td>\n",
       "      <td>0.000000</td>\n",
       "      <td>0.000000</td>\n",
       "      <td>4</td>\n",
       "      <td>25.0</td>\n",
       "      <td>0.000010</td>\n",
       "      <td>True</td>\n",
       "      <td>REGULAR</td>\n",
       "      <td>USD</td>\n",
       "      <td>3.112819e+01</td>\n",
       "    </tr>\n",
       "    <tr>\n",
       "      <th>...</th>\n",
       "      <td>...</td>\n",
       "      <td>...</td>\n",
       "      <td>...</td>\n",
       "      <td>...</td>\n",
       "      <td>...</td>\n",
       "      <td>...</td>\n",
       "      <td>...</td>\n",
       "      <td>...</td>\n",
       "      <td>...</td>\n",
       "      <td>...</td>\n",
       "      <td>...</td>\n",
       "      <td>...</td>\n",
       "      <td>...</td>\n",
       "      <td>...</td>\n",
       "      <td>...</td>\n",
       "    </tr>\n",
       "    <tr>\n",
       "      <th>104</th>\n",
       "      <td>AAPL210917C00720000</td>\n",
       "      <td>2020-08-28 19:25:09</td>\n",
       "      <td>720.00</td>\n",
       "      <td>26.60</td>\n",
       "      <td>25.80</td>\n",
       "      <td>26.70</td>\n",
       "      <td>-0.449999</td>\n",
       "      <td>-1.663582</td>\n",
       "      <td>11</td>\n",
       "      <td>110.0</td>\n",
       "      <td>1.819520</td>\n",
       "      <td>False</td>\n",
       "      <td>REGULAR</td>\n",
       "      <td>USD</td>\n",
       "      <td>1.397272e-06</td>\n",
       "    </tr>\n",
       "    <tr>\n",
       "      <th>105</th>\n",
       "      <td>AAPL210917C00740000</td>\n",
       "      <td>2020-08-28 15:33:47</td>\n",
       "      <td>740.00</td>\n",
       "      <td>24.50</td>\n",
       "      <td>23.55</td>\n",
       "      <td>24.40</td>\n",
       "      <td>-0.500000</td>\n",
       "      <td>-2.000000</td>\n",
       "      <td>2</td>\n",
       "      <td>NaN</td>\n",
       "      <td>1.777284</td>\n",
       "      <td>False</td>\n",
       "      <td>REGULAR</td>\n",
       "      <td>USD</td>\n",
       "      <td>1.016673e-06</td>\n",
       "    </tr>\n",
       "    <tr>\n",
       "      <th>106</th>\n",
       "      <td>AAPL210917C00800000</td>\n",
       "      <td>2020-08-28 19:17:58</td>\n",
       "      <td>800.00</td>\n",
       "      <td>19.11</td>\n",
       "      <td>18.30</td>\n",
       "      <td>19.10</td>\n",
       "      <td>-0.289999</td>\n",
       "      <td>-1.494840</td>\n",
       "      <td>43</td>\n",
       "      <td>6.0</td>\n",
       "      <td>1.679750</td>\n",
       "      <td>False</td>\n",
       "      <td>REGULAR</td>\n",
       "      <td>USD</td>\n",
       "      <td>4.040006e-07</td>\n",
       "    </tr>\n",
       "    <tr>\n",
       "      <th>107</th>\n",
       "      <td>AAPL210917C00900000</td>\n",
       "      <td>2020-08-27 15:03:20</td>\n",
       "      <td>900.00</td>\n",
       "      <td>13.13</td>\n",
       "      <td>12.85</td>\n",
       "      <td>13.60</td>\n",
       "      <td>-0.570000</td>\n",
       "      <td>-4.160582</td>\n",
       "      <td>25</td>\n",
       "      <td>5.0</td>\n",
       "      <td>1.579592</td>\n",
       "      <td>False</td>\n",
       "      <td>REGULAR</td>\n",
       "      <td>USD</td>\n",
       "      <td>9.523101e-08</td>\n",
       "    </tr>\n",
       "    <tr>\n",
       "      <th>108</th>\n",
       "      <td>AAPL210917C01000000</td>\n",
       "      <td>2020-08-28 19:58:31</td>\n",
       "      <td>1000.00</td>\n",
       "      <td>10.20</td>\n",
       "      <td>10.00</td>\n",
       "      <td>10.40</td>\n",
       "      <td>-0.250000</td>\n",
       "      <td>-2.392345</td>\n",
       "      <td>65</td>\n",
       "      <td>NaN</td>\n",
       "      <td>1.529238</td>\n",
       "      <td>False</td>\n",
       "      <td>REGULAR</td>\n",
       "      <td>USD</td>\n",
       "      <td>2.481846e-08</td>\n",
       "    </tr>\n",
       "  </tbody>\n",
       "</table>\n",
       "<p>109 rows × 15 columns</p>\n",
       "</div>"
      ],
      "text/plain": [
       "          contractSymbol       lastTradeDate   strike  lastPrice    bid  \\\n",
       "0    AAPL210917C00027500 2020-12-01 14:44:10    27.50      94.17  95.50   \n",
       "1    AAPL210917C00028750 2020-11-27 15:27:21    28.75      88.25  94.25   \n",
       "2    AAPL210917C00030000 2020-10-28 18:13:04    30.00      82.75  86.40   \n",
       "3    AAPL210917C00031250 2020-11-23 15:47:50    31.25      84.20  91.75   \n",
       "4    AAPL210917C00032500 2020-11-06 20:57:12    32.50      86.15  89.40   \n",
       "..                   ...                 ...      ...        ...    ...   \n",
       "104  AAPL210917C00720000 2020-08-28 19:25:09   720.00      26.60  25.80   \n",
       "105  AAPL210917C00740000 2020-08-28 15:33:47   740.00      24.50  23.55   \n",
       "106  AAPL210917C00800000 2020-08-28 19:17:58   800.00      19.11  18.30   \n",
       "107  AAPL210917C00900000 2020-08-27 15:03:20   900.00      13.13  12.85   \n",
       "108  AAPL210917C01000000 2020-08-28 19:58:31  1000.00      10.20  10.00   \n",
       "\n",
       "       ask    change  percentChange  volume  openInterest  impliedVolatility  \\\n",
       "0    96.20  0.000000       0.000000       2          11.0           0.723636   \n",
       "1    94.95  0.000000       0.000000       1           1.0           0.703128   \n",
       "2    86.95  0.000000       0.000000       2           8.0           0.000010   \n",
       "3    92.45  0.000000       0.000000       2          61.0           0.663089   \n",
       "4    90.20  0.000000       0.000000       4          25.0           0.000010   \n",
       "..     ...       ...            ...     ...           ...                ...   \n",
       "104  26.70 -0.449999      -1.663582      11         110.0           1.819520   \n",
       "105  24.40 -0.500000      -2.000000       2           NaN           1.777284   \n",
       "106  19.10 -0.289999      -1.494840      43           6.0           1.679750   \n",
       "107  13.60 -0.570000      -4.160582      25           5.0           1.579592   \n",
       "108  10.40 -0.250000      -2.392345      65           NaN           1.529238   \n",
       "\n",
       "     inTheMoney contractSize currency      BSMPrice  \n",
       "0          True      REGULAR      USD  3.562100e+01  \n",
       "1          True      REGULAR      USD  3.447340e+01  \n",
       "2          True      REGULAR      USD  3.334112e+01  \n",
       "3          True      REGULAR      USD  3.222560e+01  \n",
       "4          True      REGULAR      USD  3.112819e+01  \n",
       "..          ...          ...      ...           ...  \n",
       "104       False      REGULAR      USD  1.397272e-06  \n",
       "105       False      REGULAR      USD  1.016673e-06  \n",
       "106       False      REGULAR      USD  4.040006e-07  \n",
       "107       False      REGULAR      USD  9.523101e-08  \n",
       "108       False      REGULAR      USD  2.481846e-08  \n",
       "\n",
       "[109 rows x 15 columns]"
      ]
     },
     "execution_count": 231,
     "metadata": {},
     "output_type": "execute_result"
    }
   ],
   "source": [
    "\n",
    "opt.calls['BSMPrice'] = pd.DataFrame(AAPL_bsm_call)\n",
    "opt.calls"
   ]
  },
  {
   "cell_type": "code",
   "execution_count": 232,
   "metadata": {},
   "outputs": [
    {
     "data": {
      "text/html": [
       "<div>\n",
       "<style scoped>\n",
       "    .dataframe tbody tr th:only-of-type {\n",
       "        vertical-align: middle;\n",
       "    }\n",
       "\n",
       "    .dataframe tbody tr th {\n",
       "        vertical-align: top;\n",
       "    }\n",
       "\n",
       "    .dataframe thead th {\n",
       "        text-align: right;\n",
       "    }\n",
       "</style>\n",
       "<table border=\"1\" class=\"dataframe\">\n",
       "  <thead>\n",
       "    <tr style=\"text-align: right;\">\n",
       "      <th></th>\n",
       "      <th>contractSymbol</th>\n",
       "      <th>lastTradeDate</th>\n",
       "      <th>strike</th>\n",
       "      <th>lastPrice</th>\n",
       "      <th>bid</th>\n",
       "      <th>ask</th>\n",
       "      <th>change</th>\n",
       "      <th>percentChange</th>\n",
       "      <th>volume</th>\n",
       "      <th>openInterest</th>\n",
       "      <th>impliedVolatility</th>\n",
       "      <th>inTheMoney</th>\n",
       "      <th>contractSize</th>\n",
       "      <th>currency</th>\n",
       "      <th>BSMPrice</th>\n",
       "    </tr>\n",
       "  </thead>\n",
       "  <tbody>\n",
       "    <tr>\n",
       "      <th>0</th>\n",
       "      <td>AAPL210917C00027500</td>\n",
       "      <td>2020-12-01 14:44:10</td>\n",
       "      <td>27.50</td>\n",
       "      <td>94.17</td>\n",
       "      <td>95.50</td>\n",
       "      <td>96.20</td>\n",
       "      <td>0.000000</td>\n",
       "      <td>0.000000</td>\n",
       "      <td>2</td>\n",
       "      <td>11.0</td>\n",
       "      <td>0.723636</td>\n",
       "      <td>True</td>\n",
       "      <td>REGULAR</td>\n",
       "      <td>USD</td>\n",
       "      <td>3.562100e+01</td>\n",
       "    </tr>\n",
       "    <tr>\n",
       "      <th>1</th>\n",
       "      <td>AAPL210917C00028750</td>\n",
       "      <td>2020-11-27 15:27:21</td>\n",
       "      <td>28.75</td>\n",
       "      <td>88.25</td>\n",
       "      <td>94.25</td>\n",
       "      <td>94.95</td>\n",
       "      <td>0.000000</td>\n",
       "      <td>0.000000</td>\n",
       "      <td>1</td>\n",
       "      <td>1.0</td>\n",
       "      <td>0.703128</td>\n",
       "      <td>True</td>\n",
       "      <td>REGULAR</td>\n",
       "      <td>USD</td>\n",
       "      <td>3.447340e+01</td>\n",
       "    </tr>\n",
       "    <tr>\n",
       "      <th>2</th>\n",
       "      <td>AAPL210917C00030000</td>\n",
       "      <td>2020-10-28 18:13:04</td>\n",
       "      <td>30.00</td>\n",
       "      <td>82.75</td>\n",
       "      <td>86.40</td>\n",
       "      <td>86.95</td>\n",
       "      <td>0.000000</td>\n",
       "      <td>0.000000</td>\n",
       "      <td>2</td>\n",
       "      <td>8.0</td>\n",
       "      <td>0.000010</td>\n",
       "      <td>True</td>\n",
       "      <td>REGULAR</td>\n",
       "      <td>USD</td>\n",
       "      <td>3.334112e+01</td>\n",
       "    </tr>\n",
       "    <tr>\n",
       "      <th>3</th>\n",
       "      <td>AAPL210917C00031250</td>\n",
       "      <td>2020-11-23 15:47:50</td>\n",
       "      <td>31.25</td>\n",
       "      <td>84.20</td>\n",
       "      <td>91.75</td>\n",
       "      <td>92.45</td>\n",
       "      <td>0.000000</td>\n",
       "      <td>0.000000</td>\n",
       "      <td>2</td>\n",
       "      <td>61.0</td>\n",
       "      <td>0.663089</td>\n",
       "      <td>True</td>\n",
       "      <td>REGULAR</td>\n",
       "      <td>USD</td>\n",
       "      <td>3.222560e+01</td>\n",
       "    </tr>\n",
       "    <tr>\n",
       "      <th>4</th>\n",
       "      <td>AAPL210917C00032500</td>\n",
       "      <td>2020-11-06 20:57:12</td>\n",
       "      <td>32.50</td>\n",
       "      <td>86.15</td>\n",
       "      <td>89.40</td>\n",
       "      <td>90.20</td>\n",
       "      <td>0.000000</td>\n",
       "      <td>0.000000</td>\n",
       "      <td>4</td>\n",
       "      <td>25.0</td>\n",
       "      <td>0.000010</td>\n",
       "      <td>True</td>\n",
       "      <td>REGULAR</td>\n",
       "      <td>USD</td>\n",
       "      <td>3.112819e+01</td>\n",
       "    </tr>\n",
       "    <tr>\n",
       "      <th>...</th>\n",
       "      <td>...</td>\n",
       "      <td>...</td>\n",
       "      <td>...</td>\n",
       "      <td>...</td>\n",
       "      <td>...</td>\n",
       "      <td>...</td>\n",
       "      <td>...</td>\n",
       "      <td>...</td>\n",
       "      <td>...</td>\n",
       "      <td>...</td>\n",
       "      <td>...</td>\n",
       "      <td>...</td>\n",
       "      <td>...</td>\n",
       "      <td>...</td>\n",
       "      <td>...</td>\n",
       "    </tr>\n",
       "    <tr>\n",
       "      <th>104</th>\n",
       "      <td>AAPL210917C00720000</td>\n",
       "      <td>2020-08-28 19:25:09</td>\n",
       "      <td>720.00</td>\n",
       "      <td>26.60</td>\n",
       "      <td>25.80</td>\n",
       "      <td>26.70</td>\n",
       "      <td>-0.449999</td>\n",
       "      <td>-1.663582</td>\n",
       "      <td>11</td>\n",
       "      <td>110.0</td>\n",
       "      <td>1.819520</td>\n",
       "      <td>False</td>\n",
       "      <td>REGULAR</td>\n",
       "      <td>USD</td>\n",
       "      <td>1.397272e-06</td>\n",
       "    </tr>\n",
       "    <tr>\n",
       "      <th>105</th>\n",
       "      <td>AAPL210917C00740000</td>\n",
       "      <td>2020-08-28 15:33:47</td>\n",
       "      <td>740.00</td>\n",
       "      <td>24.50</td>\n",
       "      <td>23.55</td>\n",
       "      <td>24.40</td>\n",
       "      <td>-0.500000</td>\n",
       "      <td>-2.000000</td>\n",
       "      <td>2</td>\n",
       "      <td>NaN</td>\n",
       "      <td>1.777284</td>\n",
       "      <td>False</td>\n",
       "      <td>REGULAR</td>\n",
       "      <td>USD</td>\n",
       "      <td>1.016673e-06</td>\n",
       "    </tr>\n",
       "    <tr>\n",
       "      <th>106</th>\n",
       "      <td>AAPL210917C00800000</td>\n",
       "      <td>2020-08-28 19:17:58</td>\n",
       "      <td>800.00</td>\n",
       "      <td>19.11</td>\n",
       "      <td>18.30</td>\n",
       "      <td>19.10</td>\n",
       "      <td>-0.289999</td>\n",
       "      <td>-1.494840</td>\n",
       "      <td>43</td>\n",
       "      <td>6.0</td>\n",
       "      <td>1.679750</td>\n",
       "      <td>False</td>\n",
       "      <td>REGULAR</td>\n",
       "      <td>USD</td>\n",
       "      <td>4.040006e-07</td>\n",
       "    </tr>\n",
       "    <tr>\n",
       "      <th>107</th>\n",
       "      <td>AAPL210917C00900000</td>\n",
       "      <td>2020-08-27 15:03:20</td>\n",
       "      <td>900.00</td>\n",
       "      <td>13.13</td>\n",
       "      <td>12.85</td>\n",
       "      <td>13.60</td>\n",
       "      <td>-0.570000</td>\n",
       "      <td>-4.160582</td>\n",
       "      <td>25</td>\n",
       "      <td>5.0</td>\n",
       "      <td>1.579592</td>\n",
       "      <td>False</td>\n",
       "      <td>REGULAR</td>\n",
       "      <td>USD</td>\n",
       "      <td>9.523101e-08</td>\n",
       "    </tr>\n",
       "    <tr>\n",
       "      <th>108</th>\n",
       "      <td>AAPL210917C01000000</td>\n",
       "      <td>2020-08-28 19:58:31</td>\n",
       "      <td>1000.00</td>\n",
       "      <td>10.20</td>\n",
       "      <td>10.00</td>\n",
       "      <td>10.40</td>\n",
       "      <td>-0.250000</td>\n",
       "      <td>-2.392345</td>\n",
       "      <td>65</td>\n",
       "      <td>NaN</td>\n",
       "      <td>1.529238</td>\n",
       "      <td>False</td>\n",
       "      <td>REGULAR</td>\n",
       "      <td>USD</td>\n",
       "      <td>2.481846e-08</td>\n",
       "    </tr>\n",
       "  </tbody>\n",
       "</table>\n",
       "<p>109 rows × 15 columns</p>\n",
       "</div>"
      ],
      "text/plain": [
       "          contractSymbol       lastTradeDate   strike  lastPrice    bid  \\\n",
       "0    AAPL210917C00027500 2020-12-01 14:44:10    27.50      94.17  95.50   \n",
       "1    AAPL210917C00028750 2020-11-27 15:27:21    28.75      88.25  94.25   \n",
       "2    AAPL210917C00030000 2020-10-28 18:13:04    30.00      82.75  86.40   \n",
       "3    AAPL210917C00031250 2020-11-23 15:47:50    31.25      84.20  91.75   \n",
       "4    AAPL210917C00032500 2020-11-06 20:57:12    32.50      86.15  89.40   \n",
       "..                   ...                 ...      ...        ...    ...   \n",
       "104  AAPL210917C00720000 2020-08-28 19:25:09   720.00      26.60  25.80   \n",
       "105  AAPL210917C00740000 2020-08-28 15:33:47   740.00      24.50  23.55   \n",
       "106  AAPL210917C00800000 2020-08-28 19:17:58   800.00      19.11  18.30   \n",
       "107  AAPL210917C00900000 2020-08-27 15:03:20   900.00      13.13  12.85   \n",
       "108  AAPL210917C01000000 2020-08-28 19:58:31  1000.00      10.20  10.00   \n",
       "\n",
       "       ask    change  percentChange  volume  openInterest  impliedVolatility  \\\n",
       "0    96.20  0.000000       0.000000       2          11.0           0.723636   \n",
       "1    94.95  0.000000       0.000000       1           1.0           0.703128   \n",
       "2    86.95  0.000000       0.000000       2           8.0           0.000010   \n",
       "3    92.45  0.000000       0.000000       2          61.0           0.663089   \n",
       "4    90.20  0.000000       0.000000       4          25.0           0.000010   \n",
       "..     ...       ...            ...     ...           ...                ...   \n",
       "104  26.70 -0.449999      -1.663582      11         110.0           1.819520   \n",
       "105  24.40 -0.500000      -2.000000       2           NaN           1.777284   \n",
       "106  19.10 -0.289999      -1.494840      43           6.0           1.679750   \n",
       "107  13.60 -0.570000      -4.160582      25           5.0           1.579592   \n",
       "108  10.40 -0.250000      -2.392345      65           NaN           1.529238   \n",
       "\n",
       "     inTheMoney contractSize currency      BSMPrice  \n",
       "0          True      REGULAR      USD  3.562100e+01  \n",
       "1          True      REGULAR      USD  3.447340e+01  \n",
       "2          True      REGULAR      USD  3.334112e+01  \n",
       "3          True      REGULAR      USD  3.222560e+01  \n",
       "4          True      REGULAR      USD  3.112819e+01  \n",
       "..          ...          ...      ...           ...  \n",
       "104       False      REGULAR      USD  1.397272e-06  \n",
       "105       False      REGULAR      USD  1.016673e-06  \n",
       "106       False      REGULAR      USD  4.040006e-07  \n",
       "107       False      REGULAR      USD  9.523101e-08  \n",
       "108       False      REGULAR      USD  2.481846e-08  \n",
       "\n",
       "[109 rows x 15 columns]"
      ]
     },
     "execution_count": 232,
     "metadata": {},
     "output_type": "execute_result"
    }
   ],
   "source": [
    "opt.calls['BSMPrice'] = pd.DataFrame(AAPL_bsm_call)\n",
    "opt.calls"
   ]
  },
  {
   "cell_type": "markdown",
   "metadata": {},
   "source": [
    "# Greeks"
   ]
  },
  {
   "cell_type": "code",
   "execution_count": 239,
   "metadata": {},
   "outputs": [],
   "source": [
    "import numpy as np\n",
    "import pandas as pd\n",
    "import matplotlib.pyplot as plt\n",
    "import scipy.stats as si"
   ]
  },
  {
   "cell_type": "markdown",
   "metadata": {},
   "source": [
    "# Delta"
   ]
  },
  {
   "cell_type": "markdown",
   "metadata": {},
   "source": [
    "In the calculation of derivatives, delta is a risk sensitivity measure. It is one of the many acts which a Greek letter denotes. The Greeks are fittingly referred to as the sequence of risk assessments using such letters. Risk controls, hedge thresholds or sensitivities are often often referred to."
   ]
  },
  {
   "cell_type": "code",
   "execution_count": 241,
   "metadata": {},
   "outputs": [],
   "source": [
    "def delta(S, K, T, r, q, vol, payoff):\n",
    "    \n",
    "    d1 = (np.log(S / K) + (r - q + 0.5 * vol ** 2) * T) / (vol * np.sqrt(T))\n",
    "    if payoff == \"call\":\n",
    "        delta = np.exp(-q * T) * si.norm.cdf(d1, 0.0, 1.0)\n",
    "    elif payoff == \"put\":\n",
    "        delta =  - np.exp(-q * T) * si.norm.cdf(-d1, 0.0, 1.0)\n",
    "    \n",
    "    return delta"
   ]
  },
  {
   "cell_type": "code",
   "execution_count": 244,
   "metadata": {},
   "outputs": [
    {
     "data": {
      "text/plain": [
       "0.2600792406223699"
      ]
     },
     "execution_count": 244,
     "metadata": {},
     "output_type": "execute_result"
    }
   ],
   "source": [
    "delta(121.78, 70, 1, 0.02, 0.67, 0.46,'call')"
   ]
  },
  {
   "cell_type": "code",
   "execution_count": 245,
   "metadata": {},
   "outputs": [
    {
     "data": {
      "text/plain": [
       "-0.2516293371641726"
      ]
     },
     "execution_count": 245,
     "metadata": {},
     "output_type": "execute_result"
    }
   ],
   "source": [
    "delta(121.78, 70, 1, 0.02, 0.67, 0.46,'put')"
   ]
  },
  {
   "cell_type": "code",
   "execution_count": 246,
   "metadata": {},
   "outputs": [],
   "source": [
    "S = np.linspace(50,150,11)\n",
    "Delta_Call = np.zeros((len(S),1))\n",
    "Delta_Put = np.zeros((len(S),1))\n",
    "for i in range(len(S)):\n",
    "    Delta_Call [i] = delta(S[i], 70, 1, 0.02, 0.67, 0.46, 'call')\n",
    "    Delta_Put [i] = delta(S[i], 70, 1, 0.02, 0.67, 0.46, 'put')"
   ]
  },
  {
   "cell_type": "code",
   "execution_count": 247,
   "metadata": {},
   "outputs": [
    {
     "data": {
      "text/plain": [
       "<matplotlib.legend.Legend at 0x1f08f609ca0>"
      ]
     },
     "execution_count": 247,
     "metadata": {},
     "output_type": "execute_result"
    },
    {
     "data": {
      "image/png": "[encoded data removed]",
      "text/plain": [
       "<Figure size 432x288 with 1 Axes>"
      ]
     },
     "metadata": {
      "needs_background": "light"
     },
     "output_type": "display_data"
    }
   ],
   "source": [
    "fig = plt.figure()\n",
    "plt.plot(S, Delta_Call, '-')\n",
    "plt.plot(S, Delta_Put, '--')\n",
    "plt.grid()\n",
    "plt.xlabel('Stock Price')\n",
    "plt.ylabel('Delta')\n",
    "plt.title('Delta')\n",
    "plt.legend(['Delta for Call','Delta for Put'])"
   ]
  },
  {
   "cell_type": "markdown",
   "metadata": {},
   "source": [
    "# Gamma"
   ]
  },
  {
   "cell_type": "markdown",
   "metadata": {},
   "source": [
    "Gamma is the first delta derivative and is used for calculating an option's price change, relative to its value in or out of the money."
   ]
  },
  {
   "cell_type": "code",
   "execution_count": 248,
   "metadata": {},
   "outputs": [],
   "source": [
    "def gamma(S, K, T, r, q, vol, payoff):\n",
    "    \n",
    "    d1 = (np.log(S / K) + (r - q + 0.5 * vol ** 2) * T) / (vol * np.sqrt(T))\n",
    "    gamma = np.exp(-r * T) * si.norm.pdf(d1, 0.0, 1.0) / (vol * S * T)\n",
    "    \n",
    "    return gamma"
   ]
  },
  {
   "cell_type": "code",
   "execution_count": 249,
   "metadata": {},
   "outputs": [
    {
     "data": {
      "text/plain": [
       "0.006979066731648342"
      ]
     },
     "execution_count": 249,
     "metadata": {},
     "output_type": "execute_result"
    }
   ],
   "source": [
    "gamma(121.78, 70, 1, 0.02, 0.67, 0.46,'call')"
   ]
  },
  {
   "cell_type": "code",
   "execution_count": 250,
   "metadata": {},
   "outputs": [
    {
     "data": {
      "text/plain": [
       "0.006979066731648342"
      ]
     },
     "execution_count": 250,
     "metadata": {},
     "output_type": "execute_result"
    }
   ],
   "source": [
    "gamma(121.78, 70, 1, 0.02, 0.67, 0.46,'put')"
   ]
  },
  {
   "cell_type": "code",
   "execution_count": 251,
   "metadata": {},
   "outputs": [],
   "source": [
    "S = np.linspace(50,150,11)\n",
    "Gamma = np.zeros((len(S),1))\n",
    "for i in range(len(S)):\n",
    "    Gamma [i] = gamma(S[i], 121.78, 1, 0.02, 0.67, 0.46, 'call')"
   ]
  },
  {
   "cell_type": "code",
   "execution_count": 252,
   "metadata": {},
   "outputs": [
    {
     "data": {
      "text/plain": [
       "<matplotlib.legend.Legend at 0x1f08f7f9610>"
      ]
     },
     "execution_count": 252,
     "metadata": {},
     "output_type": "execute_result"
    },
    {
     "data": {
      "image/png": "[encoded data removed]",
      "text/plain": [
       "<Figure size 432x288 with 1 Axes>"
      ]
     },
     "metadata": {
      "needs_background": "light"
     },
     "output_type": "display_data"
    }
   ],
   "source": [
    "fig = plt.figure()\n",
    "plt.plot(S, Gamma, '-')\n",
    "plt.grid()\n",
    "plt.xlabel('Stock Price')\n",
    "plt.ylabel('Gamma')\n",
    "plt.title('Gamma')\n",
    "plt.legend(['Gamma for Call and Put'])"
   ]
  },
  {
   "cell_type": "markdown",
   "metadata": {},
   "source": [
    "# Theta"
   ]
  },
  {
   "cell_type": "markdown",
   "metadata": {},
   "source": [
    "The term \"theta\" refers to the decrease rate in the value of an option as the time passes."
   ]
  },
  {
   "cell_type": "code",
   "execution_count": 254,
   "metadata": {},
   "outputs": [],
   "source": [
    "def theta(S, K, T, r, q, vol, payoff):\n",
    "    \n",
    "    d1 = (np.log(S / K) + (r - q + 0.5 * vol ** 2) * T) / (vol * np.sqrt(T))\n",
    "    d2 = (np.log(S / K) + (r - q - 0.5 * vol ** 2) * T) / (vol * np.sqrt(T))\n",
    "    if payoff == \"call\":\n",
    "        theta = vol * S * np.exp(-q * T) * si.norm.pdf(d1, 0.0, 1.0) / (2 * np.sqrt(T)) - q * S * np.exp(-q * T) * si.norm.cdf(d1, 0.0, 1.0) + r * K * np.exp(-r * T) * si.norm.cdf(d2, 0.0, 1.0)\n",
    "    elif payoff == \"put\":\n",
    "        theta = vol * S * np.exp(-q * T) * si.norm.pdf(-d1, 0.0, 1.0) / (2 * np.sqrt(T)) - q * S * np.exp(-q * T) * si.norm.cdf(-d1, 0.0, 1.0) + r * K * np.exp(-r * T) * si.norm.cdf(-d2, 0.0, 1.0)\n",
    "    \n",
    "    return theta"
   ]
  },
  {
   "cell_type": "code",
   "execution_count": 255,
   "metadata": {},
   "outputs": [
    {
     "data": {
      "text/plain": [
       "-15.050710534912435"
      ]
     },
     "execution_count": 255,
     "metadata": {},
     "output_type": "execute_result"
    }
   ],
   "source": [
    "theta(121.78, 70, 1, 0.02, 0.67, 0.46,'call')"
   ]
  },
  {
   "cell_type": "code",
   "execution_count": 256,
   "metadata": {},
   "outputs": [
    {
     "data": {
      "text/plain": [
       "-13.895293518251888"
      ]
     },
     "execution_count": 256,
     "metadata": {},
     "output_type": "execute_result"
    }
   ],
   "source": [
    "theta(121.78, 70, 1, 0.02, 0.67, 0.46,'put')"
   ]
  },
  {
   "cell_type": "code",
   "execution_count": 257,
   "metadata": {},
   "outputs": [],
   "source": [
    "T = np.linspace(0.25,3,12)\n",
    "Theta_Call = np.zeros((len(T),1))\n",
    "Theta_Put = np.zeros((len(T),1))\n",
    "for i in range(len(T)):\n",
    "    Theta_Call [i] = theta(121.78, 70, T[i], 0.02, 0.67, 0.46, 'call')\n",
    "    Theta_Put [i] = theta(121.78, 70, T[i], 0.02, 0.67, 0.46, 'put')"
   ]
  },
  {
   "cell_type": "code",
   "execution_count": 258,
   "metadata": {},
   "outputs": [
    {
     "data": {
      "text/plain": [
       "<matplotlib.legend.Legend at 0x1f090103a00>"
      ]
     },
     "execution_count": 258,
     "metadata": {},
     "output_type": "execute_result"
    },
    {
     "data": {
      "image/png": "[encoded data removed]",
      "text/plain": [
       "<Figure size 432x288 with 1 Axes>"
      ]
     },
     "metadata": {
      "needs_background": "light"
     },
     "output_type": "display_data"
    }
   ],
   "source": [
    "fig = plt.figure()\n",
    "plt.plot(T, Theta_Call, '-')\n",
    "plt.plot(T, Theta_Put, '-')\n",
    "plt.grid()\n",
    "plt.xlabel('Time to Expiry')\n",
    "plt.ylabel('Theta')\n",
    "plt.title('Theta')\n",
    "plt.legend(['Theta for Call', 'Theta for Put'])"
   ]
  },
  {
   "cell_type": "markdown",
   "metadata": {},
   "source": [
    "# Rho"
   ]
  },
  {
   "cell_type": "markdown",
   "metadata": {},
   "source": [
    "Rho is the rate at which the price of changes in derivatives is determined by a change in the risk-free interest rate."
   ]
  },
  {
   "cell_type": "code",
   "execution_count": 260,
   "metadata": {},
   "outputs": [],
   "source": [
    "def rho(S, K, T, r, q, vol, payoff):\n",
    "    \n",
    "    d1 = (np.log(S / K) + (r - q + 0.5 * vol ** 2) * T) / (vol * np.sqrt(T))\n",
    "    d2 = (np.log(S / K) + (r - q - 0.5 * vol ** 2) * T) / (vol * np.sqrt(T))\n",
    "    if payoff == \"call\":\n",
    "        rho =  K * T * np.exp(-r * T) * si.norm.cdf(d2, 0.0, 1.0)\n",
    "    elif payoff == \"put\":\n",
    "        rho = - K * T * np.exp(-r * T) * si.norm.cdf(-d2, 0.0, 1.0)\n",
    "    \n",
    "    return rho"
   ]
  },
  {
   "cell_type": "code",
   "execution_count": 261,
   "metadata": {},
   "outputs": [
    {
     "data": {
      "text/plain": [
       "22.657767971805587"
      ]
     },
     "execution_count": 261,
     "metadata": {},
     "output_type": "execute_result"
    }
   ],
   "source": [
    "rho(121.78, 70, 1, 0.02, 0.67, 0.46,'call')"
   ]
  },
  {
   "cell_type": "code",
   "execution_count": 263,
   "metadata": {},
   "outputs": [
    {
     "data": {
      "text/plain": [
       "-45.95613915966729"
      ]
     },
     "execution_count": 263,
     "metadata": {},
     "output_type": "execute_result"
    }
   ],
   "source": [
    "rho(121.78, 70, 1, 0.02, 0.67, 0.46,'put')"
   ]
  },
  {
   "cell_type": "code",
   "execution_count": 264,
   "metadata": {},
   "outputs": [],
   "source": [
    "r = np.linspace(0,0.1,11)\n",
    "Rho_Call = np.zeros((len(r),1))\n",
    "Rho_Put = np.zeros((len(r),1))\n",
    "for i in range(len(r)):\n",
    "    Rho_Call [i] = rho(121.78, 70, 1, r[i], 0.67, 0.46, 'call')\n",
    "    Rho_Put [i] = rho(121.78, 70, 1, r[i], 0.67, 0.46, 'put')"
   ]
  },
  {
   "cell_type": "code",
   "execution_count": 265,
   "metadata": {},
   "outputs": [
    {
     "data": {
      "text/plain": [
       "<matplotlib.legend.Legend at 0x1f090176280>"
      ]
     },
     "execution_count": 265,
     "metadata": {},
     "output_type": "execute_result"
    },
    {
     "data": {
      "image/png": "[encoded data removed]",
      "text/plain": [
       "<Figure size 432x288 with 1 Axes>"
      ]
     },
     "metadata": {
      "needs_background": "light"
     },
     "output_type": "display_data"
    }
   ],
   "source": [
    "fig = plt.figure()\n",
    "plt.plot(r, Rho_Call, '-')\n",
    "plt.plot(r, Rho_Put, '-')\n",
    "plt.grid()\n",
    "plt.xlabel('Interest Rate')\n",
    "plt.ylabel('Rho')\n",
    "plt.title('Rho')\n",
    "plt.legend(['Rho for Call', 'Rho for Put'])"
   ]
  },
  {
   "cell_type": "markdown",
   "metadata": {},
   "source": [
    "# Vega"
   ]
  },
  {
   "cell_type": "markdown",
   "metadata": {},
   "source": [
    "Vega is the calculation of the price sensitivity of an option for changes in underlying asset volatility. "
   ]
  },
  {
   "cell_type": "code",
   "execution_count": 266,
   "metadata": {},
   "outputs": [],
   "source": [
    "def vega(S, K, T, r, q, vol, payoff):\n",
    "    \n",
    "    d1 = (np.log(S / K) + (r - q + 0.5 * vol ** 2) * T) / (vol * np.sqrt(T))\n",
    "    vega = S * np.sqrt(T) * np.exp(-q * T) * si.norm.pdf(d1, 0.0, 1.0)\n",
    "    \n",
    "    return vega"
   ]
  },
  {
   "cell_type": "code",
   "execution_count": 267,
   "metadata": {},
   "outputs": [
    {
     "data": {
      "text/plain": [
       "24.855111104592325"
      ]
     },
     "execution_count": 267,
     "metadata": {},
     "output_type": "execute_result"
    }
   ],
   "source": [
    "vega(121.78, 70, 1, 0.02, 0.67, 0.46,'call')"
   ]
  },
  {
   "cell_type": "code",
   "execution_count": 268,
   "metadata": {},
   "outputs": [
    {
     "data": {
      "text/plain": [
       "24.855111104592325"
      ]
     },
     "execution_count": 268,
     "metadata": {},
     "output_type": "execute_result"
    }
   ],
   "source": [
    "vega(121.78, 70, 1, 0.02, 0.67, 0.46,'put')"
   ]
  },
  {
   "cell_type": "code",
   "execution_count": 269,
   "metadata": {},
   "outputs": [],
   "source": [
    "vol = np.linspace(0.1,0.4,13)\n",
    "Vega = np.zeros((len(vol),1))\n",
    "for i in range(len(vol)):\n",
    "    Vega [i] = vega(121.78, 70, 1, 0.02, 0.67, vol[i], 'call')"
   ]
  },
  {
   "cell_type": "code",
   "execution_count": 270,
   "metadata": {},
   "outputs": [
    {
     "data": {
      "text/plain": [
       "<matplotlib.legend.Legend at 0x1f091192130>"
      ]
     },
     "execution_count": 270,
     "metadata": {},
     "output_type": "execute_result"
    },
    {
     "data": {
      "image/png": "[encoded data removed]",
      "text/plain": [
       "<Figure size 432x288 with 1 Axes>"
      ]
     },
     "metadata": {
      "needs_background": "light"
     },
     "output_type": "display_data"
    }
   ],
   "source": [
    "fig = plt.figure()\n",
    "plt.plot(vol, Vega, '-')\n",
    "plt.grid()\n",
    "plt.xlabel('Volatility')\n",
    "plt.ylabel('Vega')\n",
    "plt.title('Vega')\n",
    "plt.legend(['Vega for Call and Put'])"
   ]
  },
  {
   "cell_type": "markdown",
   "metadata": {},
   "source": [
    "# Binomial Tree (CRR Tree)"
   ]
  },
  {
   "cell_type": "markdown",
   "metadata": {},
   "source": [
    "The Binomial Pricing Options system has been widely used because it is capable of handling a range of situations under which other models are difficult to apply. This is primarily because the BOPM is not only based on a single stage, but rather on a definition of the underlying instrument."
   ]
  },
  {
   "cell_type": "code",
   "execution_count": 271,
   "metadata": {},
   "outputs": [],
   "source": [
    "import numpy as np\n",
    "import os"
   ]
  },
  {
   "cell_type": "markdown",
   "metadata": {},
   "source": [
    "# Data input"
   ]
  },
  {
   "cell_type": "markdown",
   "metadata": {},
   "source": [
    "The evaluation is carried out iteratively, beginning with each of the final nodes of those reached at expiry, and then reverse through the tree to the first node (valuation date). The value determined at each stage at that point is the value of the option."
   ]
  },
  {
   "cell_type": "code",
   "execution_count": 273,
   "metadata": {},
   "outputs": [],
   "source": [
    "S0 = 121.78                 # spot stock price\n",
    "K = 70                      # strike\n",
    "T = 1                       # maturity \n",
    "r = 0.2                     # risk free rate \n",
    "sig = 0.46                  # diffusion coefficient or volatility\n",
    "N = 3                       # number of periods or number of time steps  \n",
    "payoff = \"call\"             # payoff"
   ]
  },
  {
   "cell_type": "markdown",
   "metadata": {},
   "source": [
    "# Step 1: Creating binomial price tree"
   ]
  },
  {
   "cell_type": "markdown",
   "metadata": {},
   "source": [
    "The price tree is created from the assessment date to the end.It is assumed that the underlying instrument will shift up or down per stage (in which by definition u ·f1 and 0<d -f1) of the tree by a certain factor (u or d). If S is the current price, it is either S up = S u or S down = S d in the next cycle."
   ]
  },
  {
   "cell_type": "code",
   "execution_count": 274,
   "metadata": {},
   "outputs": [],
   "source": [
    "dT = float(T) / N                             # Delta t\n",
    "u = np.exp(sig * np.sqrt(dT))                 # up factor\n",
    "d = 1.0 / u                                   # down factor"
   ]
  },
  {
   "cell_type": "code",
   "execution_count": 275,
   "metadata": {},
   "outputs": [],
   "source": [
    "S = np.zeros((N + 1, N + 1))\n",
    "S[0, 0] = S0\n",
    "z = 1\n",
    "for t in range(1, N + 1):\n",
    "    for i in range(z):\n",
    "        S[i, t] = S[i, t-1] * u\n",
    "        S[i+1, t] = S[i, t-1] * d\n",
    "    z += 1"
   ]
  },
  {
   "cell_type": "code",
   "execution_count": 276,
   "metadata": {},
   "outputs": [
    {
     "data": {
      "text/plain": [
       "array([[121.78      , 158.82409388, 207.1365807 , 270.1451777 ],\n",
       "       [  0.        ,  93.37606176, 121.78      , 158.82409388],\n",
       "       [  0.        ,   0.        ,  71.59705133,  93.37606176],\n",
       "       [  0.        ,   0.        ,   0.        ,  54.8977721 ]])"
      ]
     },
     "execution_count": 276,
     "metadata": {},
     "output_type": "execute_result"
    }
   ],
   "source": [
    "S"
   ]
  },
  {
   "cell_type": "code",
   "execution_count": 278,
   "metadata": {},
   "outputs": [
    {
     "data": {
      "text/plain": [
       "158.8240938829395"
      ]
     },
     "execution_count": 278,
     "metadata": {},
     "output_type": "execute_result"
    }
   ],
   "source": [
    "S[0,1]"
   ]
  },
  {
   "cell_type": "markdown",
   "metadata": {},
   "source": [
    "we should look at the above output if the price goes up"
   ]
  },
  {
   "cell_type": "code",
   "execution_count": 280,
   "metadata": {},
   "outputs": [
    {
     "data": {
      "text/plain": [
       "93.37606176384452"
      ]
     },
     "execution_count": 280,
     "metadata": {},
     "output_type": "execute_result"
    }
   ],
   "source": [
    "S[1,1]"
   ]
  },
  {
   "cell_type": "markdown",
   "metadata": {},
   "source": [
    "We shouldl look at he above output if the prices goes dowm"
   ]
  },
  {
   "cell_type": "code",
   "execution_count": 277,
   "metadata": {},
   "outputs": [
    {
     "data": {
      "text/plain": [
       "0.5622681285067797"
      ]
     },
     "execution_count": 277,
     "metadata": {},
     "output_type": "execute_result"
    }
   ],
   "source": [
    "a = np.exp(r * dT)    # risk free compound return\n",
    "p = (a - d)/ (u - d)  # risk neutral up probability\n",
    "q = 1.0 - p           # risk neutral down probability\n",
    "p"
   ]
  },
  {
   "cell_type": "code",
   "execution_count": 281,
   "metadata": {},
   "outputs": [
    {
     "data": {
      "text/plain": [
       "0.43773187149322035"
      ]
     },
     "execution_count": 281,
     "metadata": {},
     "output_type": "execute_result"
    }
   ],
   "source": [
    "q"
   ]
  },
  {
   "cell_type": "markdown",
   "metadata": {},
   "source": [
    "As we have found our p and q we can now find out our call options"
   ]
  },
  {
   "cell_type": "markdown",
   "metadata": {},
   "source": [
    "# Step 2: Find option value at each final node"
   ]
  },
  {
   "cell_type": "markdown",
   "metadata": {},
   "source": [
    "At each final node of the tree-i.e. at expiration of the option-the option value is simply its intrinsic, or exercise, value: Max[(S_n-K),0] for a call option and Max[(K-S_n),0] for a put option, where K is the strike price and S_n is the spot price of the underlying asset at the n-th period."
   ]
  },
  {
   "cell_type": "code",
   "execution_count": 283,
   "metadata": {},
   "outputs": [
    {
     "data": {
      "text/plain": [
       "array([[  0.        ,   0.        ,   0.        , 200.1451777 ],\n",
       "       [  0.        ,   0.        ,   0.        ,  88.82409388],\n",
       "       [  0.        ,   0.        ,   0.        ,  23.37606176],\n",
       "       [  0.        ,   0.        ,   0.        ,   0.        ]])"
      ]
     },
     "execution_count": 283,
     "metadata": {},
     "output_type": "execute_result"
    }
   ],
   "source": [
    "S_T = S[:,-1]\n",
    "V = np.zeros((N + 1, N + 1))\n",
    "if payoff ==\"call\":\n",
    "    V[:,-1] = np.maximum(S_T-K, 0.0)\n",
    "elif payoff ==\"put\":\n",
    "    V[:,-1] = np.maximum(K-S_T, 0.0)\n",
    "V"
   ]
  },
  {
   "cell_type": "markdown",
   "metadata": {},
   "source": [
    "# Step 3: Find option value at earlier nodes"
   ]
  },
  {
   "cell_type": "markdown",
   "metadata": {},
   "source": [
    "When this step is done, for each node the value is obtained, beginning at the last time step and working back to the first node in the tree (the date of appraisal), in which the value of the choice is determined."
   ]
  },
  {
   "cell_type": "markdown",
   "metadata": {},
   "source": [
    "European Option"
   ]
  },
  {
   "cell_type": "code",
   "execution_count": 284,
   "metadata": {},
   "outputs": [
    {
     "data": {
      "text/plain": [
       "array([[ 65.50591384,  97.56196155, 141.65109175, 200.1451777 ],\n",
       "       [  0.        ,  34.64644093,  56.29451105,  88.82409388],\n",
       "       [  0.        ,   0.        ,  12.29594317,  23.37606176],\n",
       "       [  0.        ,   0.        ,   0.        ,   0.        ]])"
      ]
     },
     "execution_count": 284,
     "metadata": {},
     "output_type": "execute_result"
    }
   ],
   "source": [
    "# for European Option\n",
    "for j in range(N-1, -1, -1):\n",
    "    for i in range(j+1):\n",
    "        V[i,j] = np.exp(-r*dT) * (p * V[i,j + 1] + q * V[i + 1,j + 1])\n",
    "V"
   ]
  },
  {
   "cell_type": "code",
   "execution_count": 285,
   "metadata": {},
   "outputs": [
    {
     "name": "stdout",
     "output_type": "stream",
     "text": [
      "European call 65.5059138431193\n"
     ]
    }
   ],
   "source": [
    "print('European ' + payoff, str( V[0,0]))"
   ]
  },
  {
   "cell_type": "markdown",
   "metadata": {},
   "source": [
    "American Option"
   ]
  },
  {
   "cell_type": "code",
   "execution_count": 287,
   "metadata": {},
   "outputs": [
    {
     "data": {
      "text/plain": [
       "array([[ 65.50591384,  97.56196155, 141.65109175, 200.1451777 ],\n",
       "       [  0.        ,  34.64644093,  56.29451105,  88.82409388],\n",
       "       [  0.        ,   0.        ,  12.29594317,  23.37606176],\n",
       "       [  0.        ,   0.        ,   0.        ,   0.        ]])"
      ]
     },
     "execution_count": 287,
     "metadata": {},
     "output_type": "execute_result"
    }
   ],
   "source": [
    "# for American Option\n",
    "if payoff ==\"call\":\n",
    "    for j in range(N-1, -1, -1):\n",
    "        for i in range(j+1):\n",
    "            V[i,j] = np.maximum(S[i,j] - K,np.exp(-r*dT) * (p * V[i,j + 1] + q * V[i + 1,j + 1]))\n",
    "elif payoff ==\"put\":\n",
    "    for j in range(N-1, -1, -1):\n",
    "        for i in range(j+1):\n",
    "            V[i,j] = np.maximum(K - S[i,j],np.exp(-r*dT) * (p * V[i,j + 1] + q * V[i + 1,j + 1]))\n",
    "V\n"
   ]
  },
  {
   "cell_type": "code",
   "execution_count": 288,
   "metadata": {},
   "outputs": [
    {
     "name": "stdout",
     "output_type": "stream",
     "text": [
      "American call 65.5059138431193\n"
     ]
    }
   ],
   "source": [
    "print('American ' + payoff, str( V[0,0]))"
   ]
  },
  {
   "cell_type": "markdown",
   "metadata": {},
   "source": [
    "# Monte Carlo Simulation"
   ]
  },
  {
   "cell_type": "markdown",
   "metadata": {},
   "source": [
    "Monte Carlo simulations are used to model in a method that is not easily predictable due to the intervention of random variables the likelihood of different outcomes. It is a technique used in prediction and forecasting models to consider the effects of risk and uncertainty."
   ]
  },
  {
   "cell_type": "code",
   "execution_count": 290,
   "metadata": {},
   "outputs": [],
   "source": [
    "def mcs_simulation_np(p):\n",
    "    M = p\n",
    "    I = p\n",
    "    dt = T / M \n",
    "    S = np.zeros((M + 1, I))\n",
    "    S[0] = S0 \n",
    "    rn = np.random.standard_normal(S.shape) \n",
    "    for t in range(1, M + 1): \n",
    "        S[t] = S[t-1] * np.exp((r - sigma ** 2 / 2) * dt + sigma * np.sqrt(dt) * rn[t]) \n",
    "    return S"
   ]
  },
  {
   "cell_type": "code",
   "execution_count": 291,
   "metadata": {},
   "outputs": [],
   "source": [
    "T = 1\n",
    "r = 0.2\n",
    "sigma = 0.46\n",
    "S0 = 121.78\n",
    "K = 70"
   ]
  },
  {
   "cell_type": "code",
   "execution_count": 292,
   "metadata": {},
   "outputs": [],
   "source": [
    "S = mcs_simulation_np(1000)"
   ]
  },
  {
   "cell_type": "code",
   "execution_count": 293,
   "metadata": {},
   "outputs": [
    {
     "data": {
      "text/plain": [
       "array([[121.78      , 122.64373728, 121.1959962 , ..., 258.10777399,\n",
       "        258.24539897, 255.55955319],\n",
       "       [121.78      , 120.28003084, 119.75230481, ...,  96.59400639,\n",
       "         97.81619612,  97.52041485],\n",
       "       [121.78      , 120.33027086, 122.74394974, ..., 126.06985834,\n",
       "        125.30108711, 123.98586115],\n",
       "       ...,\n",
       "       [121.78      , 118.09884707, 118.66109195, ..., 246.71295161,\n",
       "        250.15983276, 251.4522219 ],\n",
       "       [121.78      , 123.12773204, 121.86883367, ..., 439.6891527 ,\n",
       "        448.40505743, 446.93383256],\n",
       "       [121.78      , 117.9053917 , 117.8772536 , ...,  72.06017031,\n",
       "         73.75298021,  73.9148065 ]])"
      ]
     },
     "execution_count": 293,
     "metadata": {},
     "output_type": "execute_result"
    }
   ],
   "source": [
    "S = np.transpose(S)\n",
    "S"
   ]
  },
  {
   "cell_type": "code",
   "execution_count": 294,
   "metadata": {},
   "outputs": [
    {
     "data": {
      "text/plain": [
       "Text(0.5, 1.0, 'Frequency distribution of the simulated end-of-preiod values')"
      ]
     },
     "execution_count": 294,
     "metadata": {},
     "output_type": "execute_result"
    },
    {
     "data": {
      "image/png": "[encoded data removed]",
      "text/plain": [
       "<Figure size 432x288 with 1 Axes>"
      ]
     },
     "metadata": {
      "needs_background": "light"
     },
     "output_type": "display_data"
    }
   ],
   "source": [
    "import matplotlib.pyplot as plt\n",
    "n, bins, patches = plt.hist(x=S[:,-1], bins='auto', color='#0504aa',alpha=0.7, rwidth=0.85)\n",
    "\n",
    "plt.grid(axis='y', alpha=0.75)\n",
    "plt.xlabel('S_T')\n",
    "plt.ylabel('Frequency')\n",
    "plt.title('Frequency distribution of the simulated end-of-preiod values')"
   ]
  },
  {
   "cell_type": "code",
   "execution_count": 295,
   "metadata": {},
   "outputs": [
    {
     "name": "stdout",
     "output_type": "stream",
     "text": [
      "European put 0.8863781463792277\n"
     ]
    }
   ],
   "source": [
    "p = np.mean(np.maximum(K - S[:,-1],0))\n",
    "print('European put', str(p))"
   ]
  },
  {
   "cell_type": "code",
   "execution_count": 296,
   "metadata": {},
   "outputs": [
    {
     "name": "stdout",
     "output_type": "stream",
     "text": [
      "European call 77.90468638870415\n"
     ]
    }
   ],
   "source": [
    "c = np.mean(np.maximum(S[:,-1] - K,0))\n",
    "print('European call', str(c))"
   ]
  },
  {
   "cell_type": "code",
   "execution_count": null,
   "metadata": {},
   "outputs": [],
   "source": []
  }
 ],
 "metadata": {
  "kernelspec": {
   "display_name": "Python 3",
   "language": "python",
   "name": "python3"
  },
  "language_info": {
   "codemirror_mode": {
    "name": "ipython",
    "version": 3
   },
   "file_extension": ".py",
   "mimetype": "text/x-python",
   "name": "python",
   "nbconvert_exporter": "python",
   "pygments_lexer": "ipython3",
   "version": "3.8.3"
  }
 },
 "nbformat": 4,
 "nbformat_minor": 4
}
